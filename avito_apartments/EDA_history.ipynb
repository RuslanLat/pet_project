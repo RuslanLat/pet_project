{
 "cells": [
  {
   "cell_type": "code",
   "execution_count": 1,
   "id": "bbf6ac0b",
   "metadata": {},
   "outputs": [],
   "source": [
    "# импорт библиотек для работы с табличными данными и базой данных\n",
    "import pandas as pd\n",
    "import numpy as np\n",
    "import sqlite3"
   ]
  },
  {
   "cell_type": "code",
   "execution_count": 2,
   "id": "44812b9d",
   "metadata": {},
   "outputs": [],
   "source": [
    "# импорт библиотек для визуализации данных\n",
    "import matplotlib.pyplot as plt\n",
    "import seaborn as sns\n",
    "\n",
    "%matplotlib inline"
   ]
  },
  {
   "cell_type": "code",
   "execution_count": 3,
   "id": "f904c31e",
   "metadata": {},
   "outputs": [],
   "source": [
    "# импорт библиотек для сбора данных \n",
    "import requests\n",
    "from bs4 import BeautifulSoup\n",
    "from selenium import webdriver\n",
    "from webdriver_manager.chrome import ChromeDriverManager\n",
    "import time"
   ]
  },
  {
   "cell_type": "code",
   "execution_count": 4,
   "id": "7b51ffe6",
   "metadata": {},
   "outputs": [
    {
     "name": "stdout",
     "output_type": "stream",
     "text": [
      "База данных успешно подключена к SQLite\n"
     ]
    }
   ],
   "source": [
    "# подключение к базе данных\n",
    "connection = sqlite3.connect('apartments.db')\n",
    "# создание объекта подключения\n",
    "cursor = connection.cursor()\n",
    "print(\"База данных успешно подключена к SQLite\")"
   ]
  },
  {
   "cell_type": "code",
   "execution_count": 5,
   "id": "f9db769e",
   "metadata": {},
   "outputs": [
    {
     "name": "stdout",
     "output_type": "stream",
     "text": [
      "[('as_price_val',), ('as_seller_type',), ('as_history',), ('as_seller_info',), ('as_house_type',), ('as_info',)]\n"
     ]
    }
   ],
   "source": [
    "# вывод наименований таблиц в базе данных apartments.db\n",
    "cursor.execute('SELECT name from sqlite_master where type= \"table\"')\n",
    "print(cursor.fetchall())"
   ]
  },
  {
   "cell_type": "markdown",
   "id": "079521c8",
   "metadata": {},
   "source": [
    "## EDA динамики стоимости продаж и просмотров объявлений по продаже квартир"
   ]
  },
  {
   "cell_type": "code",
   "execution_count": 6,
   "id": "962e230d",
   "metadata": {},
   "outputs": [
    {
     "name": "stdout",
     "output_type": "stream",
     "text": [
      "['marker_id', 'price', 'val_id', 'views', 'date']\n"
     ]
    }
   ],
   "source": [
    "# вывод наименований переменных в таблице as_history\n",
    "cursor.execute(\"PRAGMA table_info('as_history')\")\n",
    "as_history = [name[1] for name in cursor.fetchall()]\n",
    "print(as_history)"
   ]
  },
  {
   "cell_type": "code",
   "execution_count": 7,
   "id": "55fc9641",
   "metadata": {},
   "outputs": [],
   "source": [
    "# закрытие соединения с базой данных\n",
    "#connection.close()"
   ]
  },
  {
   "cell_type": "markdown",
   "id": "33653474",
   "metadata": {},
   "source": [
    "* ## извлечение данных"
   ]
  },
  {
   "cell_type": "code",
   "execution_count": 12,
   "id": "a08bfaab",
   "metadata": {},
   "outputs": [],
   "source": [
    "# получение данных динамики цен и просмотров (таблица as_history)\n",
    "cursor.execute(\"SELECT * FROM as_history;\")\n",
    "as_history = cursor.fetchall()\n",
    "cursor.execute(\"PRAGMA table_info('as_history')\")\n",
    "colnames = [name[1] for name in cursor.fetchall()]\n",
    "as_history_df = pd.DataFrame(data=as_history, columns=colnames)"
   ]
  },
  {
   "cell_type": "code",
   "execution_count": 13,
   "id": "eb6db3ad",
   "metadata": {},
   "outputs": [
    {
     "data": {
      "text/html": [
       "<div>\n",
       "<style scoped>\n",
       "    .dataframe tbody tr th:only-of-type {\n",
       "        vertical-align: middle;\n",
       "    }\n",
       "\n",
       "    .dataframe tbody tr th {\n",
       "        vertical-align: top;\n",
       "    }\n",
       "\n",
       "    .dataframe thead th {\n",
       "        text-align: right;\n",
       "    }\n",
       "</style>\n",
       "<table border=\"1\" class=\"dataframe\">\n",
       "  <thead>\n",
       "    <tr style=\"text-align: right;\">\n",
       "      <th></th>\n",
       "      <th>marker_id</th>\n",
       "      <th>price</th>\n",
       "      <th>val_id</th>\n",
       "      <th>views</th>\n",
       "      <th>date</th>\n",
       "    </tr>\n",
       "  </thead>\n",
       "  <tbody>\n",
       "    <tr>\n",
       "      <th>0</th>\n",
       "      <td>2336073418</td>\n",
       "      <td>3270000</td>\n",
       "      <td>1</td>\n",
       "      <td>1505.0</td>\n",
       "      <td>2022-03-16</td>\n",
       "    </tr>\n",
       "    <tr>\n",
       "      <th>1</th>\n",
       "      <td>2336387251</td>\n",
       "      <td>4150000</td>\n",
       "      <td>1</td>\n",
       "      <td>1291.0</td>\n",
       "      <td>2022-03-16</td>\n",
       "    </tr>\n",
       "    <tr>\n",
       "      <th>2</th>\n",
       "      <td>2335422701</td>\n",
       "      <td>7200000</td>\n",
       "      <td>1</td>\n",
       "      <td>660.0</td>\n",
       "      <td>2022-03-16</td>\n",
       "    </tr>\n",
       "    <tr>\n",
       "      <th>3</th>\n",
       "      <td>2282823871</td>\n",
       "      <td>3560000</td>\n",
       "      <td>1</td>\n",
       "      <td>1149.0</td>\n",
       "      <td>2022-03-16</td>\n",
       "    </tr>\n",
       "    <tr>\n",
       "      <th>4</th>\n",
       "      <td>2177809978</td>\n",
       "      <td>4256000</td>\n",
       "      <td>1</td>\n",
       "      <td>8262.0</td>\n",
       "      <td>2022-03-16</td>\n",
       "    </tr>\n",
       "  </tbody>\n",
       "</table>\n",
       "</div>"
      ],
      "text/plain": [
       "    marker_id    price  val_id   views        date\n",
       "0  2336073418  3270000       1  1505.0  2022-03-16\n",
       "1  2336387251  4150000       1  1291.0  2022-03-16\n",
       "2  2335422701  7200000       1   660.0  2022-03-16\n",
       "3  2282823871  3560000       1  1149.0  2022-03-16\n",
       "4  2177809978  4256000       1  8262.0  2022-03-16"
      ]
     },
     "execution_count": 13,
     "metadata": {},
     "output_type": "execute_result"
    }
   ],
   "source": [
    "# проверка получения и вывод данных\n",
    "as_history_df.head()"
   ]
  },
  {
   "cell_type": "code",
   "execution_count": 14,
   "id": "51e2cf36",
   "metadata": {},
   "outputs": [
    {
     "name": "stdout",
     "output_type": "stream",
     "text": [
      "<class 'pandas.core.frame.DataFrame'>\n",
      "RangeIndex: 11071 entries, 0 to 11070\n",
      "Data columns (total 5 columns):\n",
      " #   Column     Non-Null Count  Dtype  \n",
      "---  ------     --------------  -----  \n",
      " 0   marker_id  11071 non-null  int64  \n",
      " 1   price      11071 non-null  int64  \n",
      " 2   val_id     11071 non-null  int64  \n",
      " 3   views      11063 non-null  float64\n",
      " 4   date       11071 non-null  object \n",
      "dtypes: float64(1), int64(3), object(1)\n",
      "memory usage: 432.6+ KB\n"
     ]
    }
   ],
   "source": [
    "# проверка типа данных и их полноты \n",
    "as_history_df.info()"
   ]
  },
  {
   "cell_type": "markdown",
   "id": "b8f1bab3",
   "metadata": {},
   "source": [
    "* ## проверка наличия пропуска в данных"
   ]
  },
  {
   "cell_type": "code",
   "execution_count": 15,
   "id": "ef1b6fe0",
   "metadata": {},
   "outputs": [
    {
     "data": {
      "text/plain": [
       "marker_id    0\n",
       "price        0\n",
       "val_id       0\n",
       "views        8\n",
       "date         0\n",
       "dtype: int64"
      ]
     },
     "execution_count": 15,
     "metadata": {},
     "output_type": "execute_result"
    }
   ],
   "source": [
    "# количество пропусков по переменным \n",
    "as_history_df.isna().sum()"
   ]
  },
  {
   "cell_type": "code",
   "execution_count": 16,
   "id": "d62c7fc1",
   "metadata": {},
   "outputs": [
    {
     "data": {
      "text/html": [
       "<div>\n",
       "<style scoped>\n",
       "    .dataframe tbody tr th:only-of-type {\n",
       "        vertical-align: middle;\n",
       "    }\n",
       "\n",
       "    .dataframe tbody tr th {\n",
       "        vertical-align: top;\n",
       "    }\n",
       "\n",
       "    .dataframe thead th {\n",
       "        text-align: right;\n",
       "    }\n",
       "</style>\n",
       "<table border=\"1\" class=\"dataframe\">\n",
       "  <thead>\n",
       "    <tr style=\"text-align: right;\">\n",
       "      <th></th>\n",
       "      <th>isna</th>\n",
       "    </tr>\n",
       "  </thead>\n",
       "  <tbody>\n",
       "    <tr>\n",
       "      <th>marker_id_null</th>\n",
       "      <td>0</td>\n",
       "    </tr>\n",
       "    <tr>\n",
       "      <th>price_null</th>\n",
       "      <td>0</td>\n",
       "    </tr>\n",
       "    <tr>\n",
       "      <th>val_id_null</th>\n",
       "      <td>0</td>\n",
       "    </tr>\n",
       "    <tr>\n",
       "      <th>views_null</th>\n",
       "      <td>8</td>\n",
       "    </tr>\n",
       "    <tr>\n",
       "      <th>date_null</th>\n",
       "      <td>0</td>\n",
       "    </tr>\n",
       "  </tbody>\n",
       "</table>\n",
       "</div>"
      ],
      "text/plain": [
       "                isna\n",
       "marker_id_null     0\n",
       "price_null         0\n",
       "val_id_null        0\n",
       "views_null         8\n",
       "date_null          0"
      ]
     },
     "execution_count": 16,
     "metadata": {},
     "output_type": "execute_result"
    }
   ],
   "source": [
    "# получение данных количества пропусков по переменным (таблица as_history)\n",
    "cursor.execute(\"SELECT COUNT(*) - COUNT(marker_id) AS marker_id_null, \\\n",
    "                       COUNT(*) - COUNT(price) AS price_null, \\\n",
    "                       COUNT(*) - COUNT(val_id) AS val_id_null, \\\n",
    "                       COUNT(*) - COUNT(views) AS views_null, \\\n",
    "                       COUNT(*) - COUNT(date) AS date_null \\\n",
    "                       FROM as_history;\")\n",
    "as_history_isna = cursor.fetchall()\n",
    "index = ['marker_id_null', 'price_null', 'val_id_null', 'views_null', 'date_null']\n",
    "as_history_df_isna = pd.DataFrame(np.array(as_history_isna).reshape((5,1)), index=index, columns=['isna'])\n",
    "as_history_df_isna"
   ]
  },
  {
   "cell_type": "markdown",
   "id": "65e98a59",
   "metadata": {},
   "source": [
    "Обнаружено 8 (восемь) пропусков в данных по просмотрам"
   ]
  },
  {
   "cell_type": "markdown",
   "id": "d620783f",
   "metadata": {},
   "source": [
    "* ## заполнение пропусков"
   ]
  },
  {
   "cell_type": "code",
   "execution_count": 17,
   "id": "6f11ef5f",
   "metadata": {},
   "outputs": [
    {
     "data": {
      "text/html": [
       "<div>\n",
       "<style scoped>\n",
       "    .dataframe tbody tr th:only-of-type {\n",
       "        vertical-align: middle;\n",
       "    }\n",
       "\n",
       "    .dataframe tbody tr th {\n",
       "        vertical-align: top;\n",
       "    }\n",
       "\n",
       "    .dataframe thead th {\n",
       "        text-align: right;\n",
       "    }\n",
       "</style>\n",
       "<table border=\"1\" class=\"dataframe\">\n",
       "  <thead>\n",
       "    <tr style=\"text-align: right;\">\n",
       "      <th></th>\n",
       "      <th>marker_id</th>\n",
       "      <th>price</th>\n",
       "      <th>val_id</th>\n",
       "      <th>views</th>\n",
       "      <th>date</th>\n",
       "    </tr>\n",
       "  </thead>\n",
       "  <tbody>\n",
       "    <tr>\n",
       "      <th>7</th>\n",
       "      <td>2380123649</td>\n",
       "      <td>3400000</td>\n",
       "      <td>1</td>\n",
       "      <td>NaN</td>\n",
       "      <td>2022-03-16</td>\n",
       "    </tr>\n",
       "    <tr>\n",
       "      <th>9</th>\n",
       "      <td>2338780436</td>\n",
       "      <td>4750130</td>\n",
       "      <td>1</td>\n",
       "      <td>NaN</td>\n",
       "      <td>2022-03-16</td>\n",
       "    </tr>\n",
       "    <tr>\n",
       "      <th>1146</th>\n",
       "      <td>2359623437</td>\n",
       "      <td>2770000</td>\n",
       "      <td>1</td>\n",
       "      <td>NaN</td>\n",
       "      <td>2022-03-21</td>\n",
       "    </tr>\n",
       "    <tr>\n",
       "      <th>7512</th>\n",
       "      <td>2281928636</td>\n",
       "      <td>2100000</td>\n",
       "      <td>1</td>\n",
       "      <td>NaN</td>\n",
       "      <td>2022-04-11</td>\n",
       "    </tr>\n",
       "    <tr>\n",
       "      <th>9001</th>\n",
       "      <td>2393180112</td>\n",
       "      <td>2550000</td>\n",
       "      <td>1</td>\n",
       "      <td>NaN</td>\n",
       "      <td>2022-04-14</td>\n",
       "    </tr>\n",
       "    <tr>\n",
       "      <th>9052</th>\n",
       "      <td>2383890528</td>\n",
       "      <td>3160000</td>\n",
       "      <td>1</td>\n",
       "      <td>NaN</td>\n",
       "      <td>2022-04-14</td>\n",
       "    </tr>\n",
       "    <tr>\n",
       "      <th>9853</th>\n",
       "      <td>2367425852</td>\n",
       "      <td>1680000</td>\n",
       "      <td>1</td>\n",
       "      <td>NaN</td>\n",
       "      <td>2022-04-15</td>\n",
       "    </tr>\n",
       "    <tr>\n",
       "      <th>10232</th>\n",
       "      <td>2391226934</td>\n",
       "      <td>3000000</td>\n",
       "      <td>1</td>\n",
       "      <td>NaN</td>\n",
       "      <td>2022-04-18</td>\n",
       "    </tr>\n",
       "  </tbody>\n",
       "</table>\n",
       "</div>"
      ],
      "text/plain": [
       "        marker_id    price  val_id  views        date\n",
       "7      2380123649  3400000       1    NaN  2022-03-16\n",
       "9      2338780436  4750130       1    NaN  2022-03-16\n",
       "1146   2359623437  2770000       1    NaN  2022-03-21\n",
       "7512   2281928636  2100000       1    NaN  2022-04-11\n",
       "9001   2393180112  2550000       1    NaN  2022-04-14\n",
       "9052   2383890528  3160000       1    NaN  2022-04-14\n",
       "9853   2367425852  1680000       1    NaN  2022-04-15\n",
       "10232  2391226934  3000000       1    NaN  2022-04-18"
      ]
     },
     "execution_count": 17,
     "metadata": {},
     "output_type": "execute_result"
    }
   ],
   "source": [
    "# выборка объявлений с отсутствующими данными по просмотрам\n",
    "as_history_df[as_history_df['views'].isna()]"
   ]
  },
  {
   "cell_type": "code",
   "execution_count": 18,
   "id": "03ca2730",
   "metadata": {},
   "outputs": [
    {
     "data": {
      "text/plain": [
       "7        2380123649\n",
       "9        2338780436\n",
       "1146     2359623437\n",
       "7512     2281928636\n",
       "9001     2393180112\n",
       "9052     2383890528\n",
       "9853     2367425852\n",
       "10232    2391226934\n",
       "Name: marker_id, dtype: int64"
      ]
     },
     "execution_count": 18,
     "metadata": {},
     "output_type": "execute_result"
    }
   ],
   "source": [
    "# выборка id объявлений с пропусками по просмотрам\n",
    "marker_id_views_isna = as_history_df[as_history_df['views'].isna()]['marker_id']\n",
    "marker_id_views_isna"
   ]
  },
  {
   "cell_type": "code",
   "execution_count": 19,
   "id": "96a13d9a",
   "metadata": {},
   "outputs": [
    {
     "data": {
      "text/html": [
       "<div>\n",
       "<style scoped>\n",
       "    .dataframe tbody tr th:only-of-type {\n",
       "        vertical-align: middle;\n",
       "    }\n",
       "\n",
       "    .dataframe tbody tr th {\n",
       "        vertical-align: top;\n",
       "    }\n",
       "\n",
       "    .dataframe thead th {\n",
       "        text-align: right;\n",
       "    }\n",
       "</style>\n",
       "<table border=\"1\" class=\"dataframe\">\n",
       "  <thead>\n",
       "    <tr style=\"text-align: right;\">\n",
       "      <th></th>\n",
       "      <th>marker_id</th>\n",
       "      <th>price</th>\n",
       "      <th>val_id</th>\n",
       "      <th>views</th>\n",
       "      <th>date</th>\n",
       "    </tr>\n",
       "  </thead>\n",
       "  <tbody>\n",
       "    <tr>\n",
       "      <th>7</th>\n",
       "      <td>2380123649</td>\n",
       "      <td>3400000</td>\n",
       "      <td>1</td>\n",
       "      <td>NaN</td>\n",
       "      <td>2022-03-16</td>\n",
       "    </tr>\n",
       "    <tr>\n",
       "      <th>9</th>\n",
       "      <td>2338780436</td>\n",
       "      <td>4750130</td>\n",
       "      <td>1</td>\n",
       "      <td>NaN</td>\n",
       "      <td>2022-03-16</td>\n",
       "    </tr>\n",
       "    <tr>\n",
       "      <th>57</th>\n",
       "      <td>2367425852</td>\n",
       "      <td>1750000</td>\n",
       "      <td>1</td>\n",
       "      <td>122.0</td>\n",
       "      <td>2022-03-16</td>\n",
       "    </tr>\n",
       "    <tr>\n",
       "      <th>175</th>\n",
       "      <td>2281928636</td>\n",
       "      <td>1850000</td>\n",
       "      <td>1</td>\n",
       "      <td>4430.0</td>\n",
       "      <td>2022-03-16</td>\n",
       "    </tr>\n",
       "    <tr>\n",
       "      <th>392</th>\n",
       "      <td>2367425852</td>\n",
       "      <td>1750000</td>\n",
       "      <td>1</td>\n",
       "      <td>191.0</td>\n",
       "      <td>2022-03-17</td>\n",
       "    </tr>\n",
       "  </tbody>\n",
       "</table>\n",
       "</div>"
      ],
      "text/plain": [
       "      marker_id    price  val_id   views        date\n",
       "7    2380123649  3400000       1     NaN  2022-03-16\n",
       "9    2338780436  4750130       1     NaN  2022-03-16\n",
       "57   2367425852  1750000       1   122.0  2022-03-16\n",
       "175  2281928636  1850000       1  4430.0  2022-03-16\n",
       "392  2367425852  1750000       1   191.0  2022-03-17"
      ]
     },
     "execution_count": 19,
     "metadata": {},
     "output_type": "execute_result"
    }
   ],
   "source": [
    "# выборка объявлений с пропусками по просмотрам\n",
    "marker_id_views_isna_df = as_history_df[as_history_df['marker_id'].isin(marker_id_views_isna)]\n",
    "marker_id_views_isna_df.head()"
   ]
  },
  {
   "cell_type": "code",
   "execution_count": 20,
   "id": "096df76a",
   "metadata": {},
   "outputs": [],
   "source": [
    "# получение данных объявлений с пропусками по просмотрам\n",
    "cursor.execute(\"SELECT marker_id, views, date \\\n",
    "                FROM as_history \\\n",
    "                WHERE marker_id IN (2380123649, 2338780436, 2359623437, 2281928636, \\\n",
    "                                    2393180112, 2383890528, 2367425852, 2391226934) \\\n",
    "                ORDER BY marker_id, date;\")\n",
    "marker_id_views_isna = cursor.fetchall()\n",
    "colnames = ['marker_id', 'views', 'date']\n",
    "marker_id_views_isna_df_sql = pd.DataFrame(data=marker_id_views_isna, columns=colnames)"
   ]
  },
  {
   "cell_type": "code",
   "execution_count": 21,
   "id": "16955b2b",
   "metadata": {},
   "outputs": [
    {
     "data": {
      "text/html": [
       "<div>\n",
       "<style scoped>\n",
       "    .dataframe tbody tr th:only-of-type {\n",
       "        vertical-align: middle;\n",
       "    }\n",
       "\n",
       "    .dataframe tbody tr th {\n",
       "        vertical-align: top;\n",
       "    }\n",
       "\n",
       "    .dataframe thead th {\n",
       "        text-align: right;\n",
       "    }\n",
       "</style>\n",
       "<table border=\"1\" class=\"dataframe\">\n",
       "  <thead>\n",
       "    <tr style=\"text-align: right;\">\n",
       "      <th></th>\n",
       "      <th>marker_id</th>\n",
       "      <th>views</th>\n",
       "      <th>date</th>\n",
       "    </tr>\n",
       "  </thead>\n",
       "  <tbody>\n",
       "    <tr>\n",
       "      <th>0</th>\n",
       "      <td>2281928636</td>\n",
       "      <td>4430.0</td>\n",
       "      <td>2022-03-16</td>\n",
       "    </tr>\n",
       "    <tr>\n",
       "      <th>1</th>\n",
       "      <td>2281928636</td>\n",
       "      <td>4449.0</td>\n",
       "      <td>2022-03-17</td>\n",
       "    </tr>\n",
       "    <tr>\n",
       "      <th>2</th>\n",
       "      <td>2281928636</td>\n",
       "      <td>4472.0</td>\n",
       "      <td>2022-03-18</td>\n",
       "    </tr>\n",
       "    <tr>\n",
       "      <th>3</th>\n",
       "      <td>2281928636</td>\n",
       "      <td>4687.0</td>\n",
       "      <td>2022-03-21</td>\n",
       "    </tr>\n",
       "    <tr>\n",
       "      <th>4</th>\n",
       "      <td>2281928636</td>\n",
       "      <td>4752.0</td>\n",
       "      <td>2022-03-22</td>\n",
       "    </tr>\n",
       "  </tbody>\n",
       "</table>\n",
       "</div>"
      ],
      "text/plain": [
       "    marker_id   views        date\n",
       "0  2281928636  4430.0  2022-03-16\n",
       "1  2281928636  4449.0  2022-03-17\n",
       "2  2281928636  4472.0  2022-03-18\n",
       "3  2281928636  4687.0  2022-03-21\n",
       "4  2281928636  4752.0  2022-03-22"
      ]
     },
     "execution_count": 21,
     "metadata": {},
     "output_type": "execute_result"
    }
   ],
   "source": [
    "# проверка получения данных динамики цен и просмотров по id где есть пропуски данных по просмотрам\n",
    "marker_id_views_isna_df_sql.head()"
   ]
  },
  {
   "cell_type": "code",
   "execution_count": 22,
   "id": "d24f9b6a",
   "metadata": {},
   "outputs": [
    {
     "data": {
      "text/plain": [
       "((112, 5), (112, 3))"
      ]
     },
     "execution_count": 22,
     "metadata": {},
     "output_type": "execute_result"
    }
   ],
   "source": [
    "# проверка соответствия запросов\n",
    "marker_id_views_isna_df.shape, marker_id_views_isna_df_sql.shape"
   ]
  },
  {
   "cell_type": "code",
   "execution_count": 23,
   "id": "8c670155",
   "metadata": {},
   "outputs": [],
   "source": [
    "# заполнение пропусков по просмотрам 0 для анализа\n",
    "marker_id_views_isna_df = marker_id_views_isna_df.fillna(0)"
   ]
  },
  {
   "cell_type": "code",
   "execution_count": 24,
   "id": "d4e12330",
   "metadata": {},
   "outputs": [
    {
     "data": {
      "text/html": [
       "<div>\n",
       "<style scoped>\n",
       "    .dataframe tbody tr th:only-of-type {\n",
       "        vertical-align: middle;\n",
       "    }\n",
       "\n",
       "    .dataframe tbody tr th {\n",
       "        vertical-align: top;\n",
       "    }\n",
       "\n",
       "    .dataframe thead th {\n",
       "        text-align: right;\n",
       "    }\n",
       "</style>\n",
       "<table border=\"1\" class=\"dataframe\">\n",
       "  <thead>\n",
       "    <tr style=\"text-align: right;\">\n",
       "      <th>marker_id</th>\n",
       "      <th>2281928636</th>\n",
       "      <th>2338780436</th>\n",
       "      <th>2359623437</th>\n",
       "      <th>2367425852</th>\n",
       "      <th>2380123649</th>\n",
       "      <th>2383890528</th>\n",
       "      <th>2391226934</th>\n",
       "      <th>2393180112</th>\n",
       "    </tr>\n",
       "    <tr>\n",
       "      <th>date</th>\n",
       "      <th></th>\n",
       "      <th></th>\n",
       "      <th></th>\n",
       "      <th></th>\n",
       "      <th></th>\n",
       "      <th></th>\n",
       "      <th></th>\n",
       "      <th></th>\n",
       "    </tr>\n",
       "  </thead>\n",
       "  <tbody>\n",
       "    <tr>\n",
       "      <th>2022-03-16</th>\n",
       "      <td>4430.0</td>\n",
       "      <td>0.0</td>\n",
       "      <td>-</td>\n",
       "      <td>122.0</td>\n",
       "      <td>0.0</td>\n",
       "      <td>-</td>\n",
       "      <td>-</td>\n",
       "      <td>-</td>\n",
       "    </tr>\n",
       "    <tr>\n",
       "      <th>2022-03-17</th>\n",
       "      <td>4449.0</td>\n",
       "      <td>267.0</td>\n",
       "      <td>-</td>\n",
       "      <td>191.0</td>\n",
       "      <td>154.0</td>\n",
       "      <td>-</td>\n",
       "      <td>-</td>\n",
       "      <td>-</td>\n",
       "    </tr>\n",
       "    <tr>\n",
       "      <th>2022-03-18</th>\n",
       "      <td>4472.0</td>\n",
       "      <td>273.0</td>\n",
       "      <td>300.0</td>\n",
       "      <td>-</td>\n",
       "      <td>180.0</td>\n",
       "      <td>-</td>\n",
       "      <td>-</td>\n",
       "      <td>-</td>\n",
       "    </tr>\n",
       "    <tr>\n",
       "      <th>2022-03-21</th>\n",
       "      <td>4687.0</td>\n",
       "      <td>289.0</td>\n",
       "      <td>0.0</td>\n",
       "      <td>416.0</td>\n",
       "      <td>285.0</td>\n",
       "      <td>-</td>\n",
       "      <td>-</td>\n",
       "      <td>-</td>\n",
       "    </tr>\n",
       "    <tr>\n",
       "      <th>2022-03-22</th>\n",
       "      <td>4752.0</td>\n",
       "      <td>294.0</td>\n",
       "      <td>-</td>\n",
       "      <td>463.0</td>\n",
       "      <td>311.0</td>\n",
       "      <td>-</td>\n",
       "      <td>-</td>\n",
       "      <td>-</td>\n",
       "    </tr>\n",
       "    <tr>\n",
       "      <th>2022-03-23</th>\n",
       "      <td>4856.0</td>\n",
       "      <td>301.0</td>\n",
       "      <td>-</td>\n",
       "      <td>474.0</td>\n",
       "      <td>331.0</td>\n",
       "      <td>-</td>\n",
       "      <td>-</td>\n",
       "      <td>-</td>\n",
       "    </tr>\n",
       "    <tr>\n",
       "      <th>2022-03-24</th>\n",
       "      <td>4917.0</td>\n",
       "      <td>-</td>\n",
       "      <td>-</td>\n",
       "      <td>521.0</td>\n",
       "      <td>406.0</td>\n",
       "      <td>-</td>\n",
       "      <td>-</td>\n",
       "      <td>-</td>\n",
       "    </tr>\n",
       "    <tr>\n",
       "      <th>2022-03-25</th>\n",
       "      <td>4934.0</td>\n",
       "      <td>306.0</td>\n",
       "      <td>-</td>\n",
       "      <td>553.0</td>\n",
       "      <td>450.0</td>\n",
       "      <td>-</td>\n",
       "      <td>-</td>\n",
       "      <td>-</td>\n",
       "    </tr>\n",
       "    <tr>\n",
       "      <th>2022-03-28</th>\n",
       "      <td>5011.0</td>\n",
       "      <td>-</td>\n",
       "      <td>-</td>\n",
       "      <td>610.0</td>\n",
       "      <td>493.0</td>\n",
       "      <td>-</td>\n",
       "      <td>-</td>\n",
       "      <td>-</td>\n",
       "    </tr>\n",
       "    <tr>\n",
       "      <th>2022-03-29</th>\n",
       "      <td>5023.0</td>\n",
       "      <td>318.0</td>\n",
       "      <td>-</td>\n",
       "      <td>636.0</td>\n",
       "      <td>508.0</td>\n",
       "      <td>-</td>\n",
       "      <td>-</td>\n",
       "      <td>-</td>\n",
       "    </tr>\n",
       "    <tr>\n",
       "      <th>2022-03-30</th>\n",
       "      <td>5040.0</td>\n",
       "      <td>323.0</td>\n",
       "      <td>-</td>\n",
       "      <td>656.0</td>\n",
       "      <td>516.0</td>\n",
       "      <td>-</td>\n",
       "      <td>-</td>\n",
       "      <td>-</td>\n",
       "    </tr>\n",
       "    <tr>\n",
       "      <th>2022-03-31</th>\n",
       "      <td>5053.0</td>\n",
       "      <td>330.0</td>\n",
       "      <td>-</td>\n",
       "      <td>680.0</td>\n",
       "      <td>532.0</td>\n",
       "      <td>-</td>\n",
       "      <td>-</td>\n",
       "      <td>-</td>\n",
       "    </tr>\n",
       "    <tr>\n",
       "      <th>2022-04-01</th>\n",
       "      <td>3338.0</td>\n",
       "      <td>139.0</td>\n",
       "      <td>-</td>\n",
       "      <td>480.0</td>\n",
       "      <td>370.0</td>\n",
       "      <td>-</td>\n",
       "      <td>-</td>\n",
       "      <td>-</td>\n",
       "    </tr>\n",
       "    <tr>\n",
       "      <th>2022-04-04</th>\n",
       "      <td>3357.0</td>\n",
       "      <td>-</td>\n",
       "      <td>-</td>\n",
       "      <td>521.0</td>\n",
       "      <td>435.0</td>\n",
       "      <td>-</td>\n",
       "      <td>-</td>\n",
       "      <td>-</td>\n",
       "    </tr>\n",
       "    <tr>\n",
       "      <th>2022-04-05</th>\n",
       "      <td>3368.0</td>\n",
       "      <td>148.0</td>\n",
       "      <td>-</td>\n",
       "      <td>529.0</td>\n",
       "      <td>447.0</td>\n",
       "      <td>-</td>\n",
       "      <td>-</td>\n",
       "      <td>-</td>\n",
       "    </tr>\n",
       "    <tr>\n",
       "      <th>2022-04-06</th>\n",
       "      <td>3372.0</td>\n",
       "      <td>150.0</td>\n",
       "      <td>-</td>\n",
       "      <td>544.0</td>\n",
       "      <td>466.0</td>\n",
       "      <td>122.0</td>\n",
       "      <td>-</td>\n",
       "      <td>-</td>\n",
       "    </tr>\n",
       "    <tr>\n",
       "      <th>2022-04-07</th>\n",
       "      <td>3380.0</td>\n",
       "      <td>152.0</td>\n",
       "      <td>-</td>\n",
       "      <td>548.0</td>\n",
       "      <td>487.0</td>\n",
       "      <td>176.0</td>\n",
       "      <td>-</td>\n",
       "      <td>-</td>\n",
       "    </tr>\n",
       "    <tr>\n",
       "      <th>2022-04-08</th>\n",
       "      <td>3392.0</td>\n",
       "      <td>151.0</td>\n",
       "      <td>-</td>\n",
       "      <td>562.0</td>\n",
       "      <td>491.0</td>\n",
       "      <td>206.0</td>\n",
       "      <td>-</td>\n",
       "      <td>-</td>\n",
       "    </tr>\n",
       "    <tr>\n",
       "      <th>2022-04-11</th>\n",
       "      <td>0.0</td>\n",
       "      <td>155.0</td>\n",
       "      <td>-</td>\n",
       "      <td>582.0</td>\n",
       "      <td>525.0</td>\n",
       "      <td>288.0</td>\n",
       "      <td>-</td>\n",
       "      <td>355.0</td>\n",
       "    </tr>\n",
       "    <tr>\n",
       "      <th>2022-04-12</th>\n",
       "      <td>3411.0</td>\n",
       "      <td>157.0</td>\n",
       "      <td>-</td>\n",
       "      <td>593.0</td>\n",
       "      <td>536.0</td>\n",
       "      <td>324.0</td>\n",
       "      <td>-</td>\n",
       "      <td>399.0</td>\n",
       "    </tr>\n",
       "    <tr>\n",
       "      <th>2022-04-13</th>\n",
       "      <td>3414.0</td>\n",
       "      <td>158.0</td>\n",
       "      <td>-</td>\n",
       "      <td>608.0</td>\n",
       "      <td>545.0</td>\n",
       "      <td>336.0</td>\n",
       "      <td>-</td>\n",
       "      <td>421.0</td>\n",
       "    </tr>\n",
       "    <tr>\n",
       "      <th>2022-04-14</th>\n",
       "      <td>3417.0</td>\n",
       "      <td>159.0</td>\n",
       "      <td>-</td>\n",
       "      <td>619.0</td>\n",
       "      <td>554.0</td>\n",
       "      <td>0.0</td>\n",
       "      <td>-</td>\n",
       "      <td>0.0</td>\n",
       "    </tr>\n",
       "    <tr>\n",
       "      <th>2022-04-15</th>\n",
       "      <td>3417.0</td>\n",
       "      <td>-</td>\n",
       "      <td>-</td>\n",
       "      <td>0.0</td>\n",
       "      <td>580.0</td>\n",
       "      <td>387.0</td>\n",
       "      <td>-</td>\n",
       "      <td>453.0</td>\n",
       "    </tr>\n",
       "    <tr>\n",
       "      <th>2022-04-18</th>\n",
       "      <td>3447.0</td>\n",
       "      <td>-</td>\n",
       "      <td>-</td>\n",
       "      <td>-</td>\n",
       "      <td>643.0</td>\n",
       "      <td>464.0</td>\n",
       "      <td>0.0</td>\n",
       "      <td>500.0</td>\n",
       "    </tr>\n",
       "    <tr>\n",
       "      <th>2022-04-19</th>\n",
       "      <td>3490.0</td>\n",
       "      <td>-</td>\n",
       "      <td>-</td>\n",
       "      <td>-</td>\n",
       "      <td>661.0</td>\n",
       "      <td>480.0</td>\n",
       "      <td>120.0</td>\n",
       "      <td>529.0</td>\n",
       "    </tr>\n",
       "  </tbody>\n",
       "</table>\n",
       "</div>"
      ],
      "text/plain": [
       "marker_id   2281928636 2338780436 2359623437 2367425852  2380123649  \\\n",
       "date                                                                  \n",
       "2022-03-16      4430.0        0.0          -      122.0         0.0   \n",
       "2022-03-17      4449.0      267.0          -      191.0       154.0   \n",
       "2022-03-18      4472.0      273.0      300.0          -       180.0   \n",
       "2022-03-21      4687.0      289.0        0.0      416.0       285.0   \n",
       "2022-03-22      4752.0      294.0          -      463.0       311.0   \n",
       "2022-03-23      4856.0      301.0          -      474.0       331.0   \n",
       "2022-03-24      4917.0          -          -      521.0       406.0   \n",
       "2022-03-25      4934.0      306.0          -      553.0       450.0   \n",
       "2022-03-28      5011.0          -          -      610.0       493.0   \n",
       "2022-03-29      5023.0      318.0          -      636.0       508.0   \n",
       "2022-03-30      5040.0      323.0          -      656.0       516.0   \n",
       "2022-03-31      5053.0      330.0          -      680.0       532.0   \n",
       "2022-04-01      3338.0      139.0          -      480.0       370.0   \n",
       "2022-04-04      3357.0          -          -      521.0       435.0   \n",
       "2022-04-05      3368.0      148.0          -      529.0       447.0   \n",
       "2022-04-06      3372.0      150.0          -      544.0       466.0   \n",
       "2022-04-07      3380.0      152.0          -      548.0       487.0   \n",
       "2022-04-08      3392.0      151.0          -      562.0       491.0   \n",
       "2022-04-11         0.0      155.0          -      582.0       525.0   \n",
       "2022-04-12      3411.0      157.0          -      593.0       536.0   \n",
       "2022-04-13      3414.0      158.0          -      608.0       545.0   \n",
       "2022-04-14      3417.0      159.0          -      619.0       554.0   \n",
       "2022-04-15      3417.0          -          -        0.0       580.0   \n",
       "2022-04-18      3447.0          -          -          -       643.0   \n",
       "2022-04-19      3490.0          -          -          -       661.0   \n",
       "\n",
       "marker_id  2383890528 2391226934 2393180112  \n",
       "date                                         \n",
       "2022-03-16          -          -          -  \n",
       "2022-03-17          -          -          -  \n",
       "2022-03-18          -          -          -  \n",
       "2022-03-21          -          -          -  \n",
       "2022-03-22          -          -          -  \n",
       "2022-03-23          -          -          -  \n",
       "2022-03-24          -          -          -  \n",
       "2022-03-25          -          -          -  \n",
       "2022-03-28          -          -          -  \n",
       "2022-03-29          -          -          -  \n",
       "2022-03-30          -          -          -  \n",
       "2022-03-31          -          -          -  \n",
       "2022-04-01          -          -          -  \n",
       "2022-04-04          -          -          -  \n",
       "2022-04-05          -          -          -  \n",
       "2022-04-06      122.0          -          -  \n",
       "2022-04-07      176.0          -          -  \n",
       "2022-04-08      206.0          -          -  \n",
       "2022-04-11      288.0          -      355.0  \n",
       "2022-04-12      324.0          -      399.0  \n",
       "2022-04-13      336.0          -      421.0  \n",
       "2022-04-14        0.0          -        0.0  \n",
       "2022-04-15      387.0          -      453.0  \n",
       "2022-04-18      464.0        0.0      500.0  \n",
       "2022-04-19      480.0      120.0      529.0  "
      ]
     },
     "execution_count": 24,
     "metadata": {},
     "output_type": "execute_result"
    }
   ],
   "source": [
    "# проверка гипотезы - объявление было только опубликовано или снято с публикации\n",
    "pd.pivot_table(marker_id_views_isna_df, index='date', columns='marker_id', values='views', fill_value='-')"
   ]
  },
  {
   "cell_type": "markdown",
   "id": "8e702728",
   "metadata": {},
   "source": [
    "Из данных видно, что по id 2338780436, 2359623437, 2367425852, 2380123649 и 2391226934 \\\n",
    "нет данных по просмотрам в день публикации объявления или снятия с публикации, \\\n",
    "а по id 2281928636, 2383890528 и 2359623437 в течение публикации."
   ]
  },
  {
   "cell_type": "code",
   "execution_count": 25,
   "id": "8a3a385d",
   "metadata": {},
   "outputs": [
    {
     "data": {
      "text/html": [
       "<div>\n",
       "<style scoped>\n",
       "    .dataframe tbody tr th:only-of-type {\n",
       "        vertical-align: middle;\n",
       "    }\n",
       "\n",
       "    .dataframe tbody tr th {\n",
       "        vertical-align: top;\n",
       "    }\n",
       "\n",
       "    .dataframe thead th {\n",
       "        text-align: right;\n",
       "    }\n",
       "</style>\n",
       "<table border=\"1\" class=\"dataframe\">\n",
       "  <thead>\n",
       "    <tr style=\"text-align: right;\">\n",
       "      <th></th>\n",
       "      <th>marker_id</th>\n",
       "      <th>min_data</th>\n",
       "      <th>max_data</th>\n",
       "    </tr>\n",
       "  </thead>\n",
       "  <tbody>\n",
       "    <tr>\n",
       "      <th>0</th>\n",
       "      <td>2281928636</td>\n",
       "      <td>2022-03-16</td>\n",
       "      <td>2022-04-19</td>\n",
       "    </tr>\n",
       "    <tr>\n",
       "      <th>1</th>\n",
       "      <td>2338780436</td>\n",
       "      <td>2022-03-16</td>\n",
       "      <td>2022-04-14</td>\n",
       "    </tr>\n",
       "    <tr>\n",
       "      <th>2</th>\n",
       "      <td>2359623437</td>\n",
       "      <td>2022-03-18</td>\n",
       "      <td>2022-03-21</td>\n",
       "    </tr>\n",
       "    <tr>\n",
       "      <th>3</th>\n",
       "      <td>2367425852</td>\n",
       "      <td>2022-03-16</td>\n",
       "      <td>2022-04-15</td>\n",
       "    </tr>\n",
       "    <tr>\n",
       "      <th>4</th>\n",
       "      <td>2380123649</td>\n",
       "      <td>2022-03-16</td>\n",
       "      <td>2022-04-19</td>\n",
       "    </tr>\n",
       "    <tr>\n",
       "      <th>5</th>\n",
       "      <td>2383890528</td>\n",
       "      <td>2022-04-06</td>\n",
       "      <td>2022-04-19</td>\n",
       "    </tr>\n",
       "    <tr>\n",
       "      <th>6</th>\n",
       "      <td>2391226934</td>\n",
       "      <td>2022-04-18</td>\n",
       "      <td>2022-04-19</td>\n",
       "    </tr>\n",
       "    <tr>\n",
       "      <th>7</th>\n",
       "      <td>2393180112</td>\n",
       "      <td>2022-04-11</td>\n",
       "      <td>2022-04-19</td>\n",
       "    </tr>\n",
       "  </tbody>\n",
       "</table>\n",
       "</div>"
      ],
      "text/plain": [
       "    marker_id    min_data    max_data\n",
       "0  2281928636  2022-03-16  2022-04-19\n",
       "1  2338780436  2022-03-16  2022-04-14\n",
       "2  2359623437  2022-03-18  2022-03-21\n",
       "3  2367425852  2022-03-16  2022-04-15\n",
       "4  2380123649  2022-03-16  2022-04-19\n",
       "5  2383890528  2022-04-06  2022-04-19\n",
       "6  2391226934  2022-04-18  2022-04-19\n",
       "7  2393180112  2022-04-11  2022-04-19"
      ]
     },
     "execution_count": 25,
     "metadata": {},
     "output_type": "execute_result"
    }
   ],
   "source": [
    "# выборка даты публикации и снятия с публикации соответствующего объявления\n",
    "date_views_isna_df = marker_id_views_isna_df_sql.groupby('marker_id')['date'] \\\n",
    "                                                .agg(['min', 'max']) \\\n",
    "                                                .rename(columns={'min' : 'min_data', 'max' : 'max_data'}) \\\n",
    "                                                .reset_index()                     \n",
    "date_views_isna_df"
   ]
  },
  {
   "cell_type": "code",
   "execution_count": 26,
   "id": "0165c48a",
   "metadata": {},
   "outputs": [
    {
     "data": {
      "text/html": [
       "<div>\n",
       "<style scoped>\n",
       "    .dataframe tbody tr th:only-of-type {\n",
       "        vertical-align: middle;\n",
       "    }\n",
       "\n",
       "    .dataframe tbody tr th {\n",
       "        vertical-align: top;\n",
       "    }\n",
       "\n",
       "    .dataframe thead th {\n",
       "        text-align: right;\n",
       "    }\n",
       "</style>\n",
       "<table border=\"1\" class=\"dataframe\">\n",
       "  <thead>\n",
       "    <tr style=\"text-align: right;\">\n",
       "      <th></th>\n",
       "      <th>marker_id</th>\n",
       "      <th>min_data</th>\n",
       "      <th>max_date</th>\n",
       "    </tr>\n",
       "  </thead>\n",
       "  <tbody>\n",
       "    <tr>\n",
       "      <th>0</th>\n",
       "      <td>2281928636</td>\n",
       "      <td>2022-03-16</td>\n",
       "      <td>2022-04-19</td>\n",
       "    </tr>\n",
       "    <tr>\n",
       "      <th>1</th>\n",
       "      <td>2338780436</td>\n",
       "      <td>2022-03-16</td>\n",
       "      <td>2022-04-14</td>\n",
       "    </tr>\n",
       "    <tr>\n",
       "      <th>2</th>\n",
       "      <td>2359623437</td>\n",
       "      <td>2022-03-18</td>\n",
       "      <td>2022-03-21</td>\n",
       "    </tr>\n",
       "    <tr>\n",
       "      <th>3</th>\n",
       "      <td>2367425852</td>\n",
       "      <td>2022-03-16</td>\n",
       "      <td>2022-04-15</td>\n",
       "    </tr>\n",
       "    <tr>\n",
       "      <th>4</th>\n",
       "      <td>2380123649</td>\n",
       "      <td>2022-03-16</td>\n",
       "      <td>2022-04-19</td>\n",
       "    </tr>\n",
       "    <tr>\n",
       "      <th>5</th>\n",
       "      <td>2383890528</td>\n",
       "      <td>2022-04-06</td>\n",
       "      <td>2022-04-19</td>\n",
       "    </tr>\n",
       "    <tr>\n",
       "      <th>6</th>\n",
       "      <td>2391226934</td>\n",
       "      <td>2022-04-18</td>\n",
       "      <td>2022-04-19</td>\n",
       "    </tr>\n",
       "    <tr>\n",
       "      <th>7</th>\n",
       "      <td>2393180112</td>\n",
       "      <td>2022-04-11</td>\n",
       "      <td>2022-04-19</td>\n",
       "    </tr>\n",
       "  </tbody>\n",
       "</table>\n",
       "</div>"
      ],
      "text/plain": [
       "    marker_id    min_data    max_date\n",
       "0  2281928636  2022-03-16  2022-04-19\n",
       "1  2338780436  2022-03-16  2022-04-14\n",
       "2  2359623437  2022-03-18  2022-03-21\n",
       "3  2367425852  2022-03-16  2022-04-15\n",
       "4  2380123649  2022-03-16  2022-04-19\n",
       "5  2383890528  2022-04-06  2022-04-19\n",
       "6  2391226934  2022-04-18  2022-04-19\n",
       "7  2393180112  2022-04-11  2022-04-19"
      ]
     },
     "execution_count": 26,
     "metadata": {},
     "output_type": "execute_result"
    }
   ],
   "source": [
    "# получение даты публикации и снятия с публикации соответствующего объявления\n",
    "cursor.execute(\"SELECT marker_id, MIN(date) AS min_data, MAX(date) AS max_date \\\n",
    "                FROM as_history \\\n",
    "                WHERE marker_id IN (2380123649, 2338780436, 2359623437, 2281928636, \\\n",
    "                                    2393180112, 2383890528, 2367425852, 2391226934) \\\n",
    "                GROUP BY marker_id;\")\n",
    "date_views_isna = cursor.fetchall()\n",
    "colnames = ['marker_id', 'min_data', 'max_date']\n",
    "date_views_isna_df_sql = pd.DataFrame(data=date_views_isna, columns=colnames)\n",
    "date_views_isna_df_sql"
   ]
  },
  {
   "cell_type": "code",
   "execution_count": 27,
   "id": "8f9b2ec4",
   "metadata": {},
   "outputs": [],
   "source": [
    "# сортировка данных для заполнения пропусков\n",
    "as_history_df.sort_values(by=['marker_id', 'date'], inplace=True)"
   ]
  },
  {
   "cell_type": "code",
   "execution_count": 28,
   "id": "7de420ab",
   "metadata": {},
   "outputs": [],
   "source": [
    "# переназначение индекса после сортировки\n",
    "as_history_df.reset_index(drop=True, inplace=True)"
   ]
  },
  {
   "cell_type": "code",
   "execution_count": 29,
   "id": "bfe6812b",
   "metadata": {},
   "outputs": [
    {
     "name": "stderr",
     "output_type": "stream",
     "text": [
      "<ipython-input-29-6384bc118321>:8: SettingWithCopyWarning: \n",
      "A value is trying to be set on a copy of a slice from a DataFrame\n",
      "\n",
      "See the caveats in the documentation: https://pandas.pydata.org/pandas-docs/stable/user_guide/indexing.html#returning-a-view-versus-a-copy\n",
      "  as_history_df['views'][i] = 0\n",
      "<ipython-input-29-6384bc118321>:11: SettingWithCopyWarning: \n",
      "A value is trying to be set on a copy of a slice from a DataFrame\n",
      "\n",
      "See the caveats in the documentation: https://pandas.pydata.org/pandas-docs/stable/user_guide/indexing.html#returning-a-view-versus-a-copy\n",
      "  as_history_df['views'][i] = as_history_df['views'][i - 1]\n",
      "<ipython-input-29-6384bc118321>:11: SettingWithCopyWarning: \n",
      "A value is trying to be set on a copy of a slice from a DataFrame\n",
      "\n",
      "See the caveats in the documentation: https://pandas.pydata.org/pandas-docs/stable/user_guide/indexing.html#returning-a-view-versus-a-copy\n",
      "  as_history_df['views'][i] = as_history_df['views'][i - 1]\n",
      "<ipython-input-29-6384bc118321>:8: SettingWithCopyWarning: \n",
      "A value is trying to be set on a copy of a slice from a DataFrame\n",
      "\n",
      "See the caveats in the documentation: https://pandas.pydata.org/pandas-docs/stable/user_guide/indexing.html#returning-a-view-versus-a-copy\n",
      "  as_history_df['views'][i] = 0\n",
      "<ipython-input-29-6384bc118321>:8: SettingWithCopyWarning: \n",
      "A value is trying to be set on a copy of a slice from a DataFrame\n",
      "\n",
      "See the caveats in the documentation: https://pandas.pydata.org/pandas-docs/stable/user_guide/indexing.html#returning-a-view-versus-a-copy\n",
      "  as_history_df['views'][i] = 0\n"
     ]
    }
   ],
   "source": [
    "\"\"\" заполнение пропусков в цикле по условию - в день публикации объявления количество просмотров 0, \n",
    "    в день снятия c публикации количество просмотров равно количеству просмотров в предыдущий день \"\"\"\n",
    "\n",
    "for row in range(len(date_views_isna_df)):\n",
    "    marker_id, min_data, max_data = date_views_isna_df.iloc[row]\n",
    "    if as_history_df[(as_history_df['marker_id'] == marker_id) & (as_history_df['date'] == min_data)]['views'].isna().values[0]:\n",
    "        i = as_history_df[(as_history_df['marker_id'] == marker_id) & (as_history_df['date'] == min_data)]['views'].index[0]\n",
    "        as_history_df['views'][i] = 0\n",
    "    if as_history_df[(as_history_df['marker_id'] == marker_id) & (as_history_df['date'] == max_data)]['views'].isna().values[0]:\n",
    "        i = as_history_df[(as_history_df['marker_id'] == marker_id) & (as_history_df['date'] == max_data)]['views'].index[0]\n",
    "        as_history_df['views'][i] = as_history_df['views'][i - 1]   "
   ]
  },
  {
   "cell_type": "code",
   "execution_count": 30,
   "id": "d024a128",
   "metadata": {},
   "outputs": [
    {
     "data": {
      "text/plain": [
       "[(2338780436, 4750130, 1, None, '2022-03-16')]"
      ]
     },
     "execution_count": 30,
     "metadata": {},
     "output_type": "execute_result"
    }
   ],
   "source": [
    "# пример внесения изменений в базу данных\n",
    "cursor.execute(\"SELECT * FROM as_history WHERE marker_id = ? AND date = ?;\", (2338780436, '2022-03-16'))\n",
    "cursor.fetchall()"
   ]
  },
  {
   "cell_type": "code",
   "execution_count": 31,
   "id": "61ef7d85",
   "metadata": {},
   "outputs": [],
   "source": [
    "# внесение изменений в базу данных\n",
    "cursor.execute(\"UPDATE as_history SET views = ? WHERE marker_id = ? AND date = ?;\", (0, 2338780436, '2022-03-16'))\n",
    "connection.commit()"
   ]
  },
  {
   "cell_type": "code",
   "execution_count": 32,
   "id": "4fb51985",
   "metadata": {},
   "outputs": [
    {
     "data": {
      "text/plain": [
       "[(2338780436, 4750130, 1, 0, '2022-03-16')]"
      ]
     },
     "execution_count": 32,
     "metadata": {},
     "output_type": "execute_result"
    }
   ],
   "source": [
    "# пример внесения изменений в базу данных\n",
    "cursor.execute(\"SELECT * FROM as_history WHERE marker_id = ? AND date = ?;\", (2338780436, '2022-03-16'))\n",
    "cursor.fetchall()"
   ]
  },
  {
   "cell_type": "code",
   "execution_count": 33,
   "id": "83e143d9",
   "metadata": {},
   "outputs": [
    {
     "data": {
      "text/plain": [
       "marker_id    0\n",
       "price        0\n",
       "val_id       0\n",
       "views        3\n",
       "date         0\n",
       "dtype: int64"
      ]
     },
     "execution_count": 33,
     "metadata": {},
     "output_type": "execute_result"
    }
   ],
   "source": [
    "# проверка заполнение пропусков\n",
    "as_history_df.isna().sum()"
   ]
  },
  {
   "cell_type": "code",
   "execution_count": 34,
   "id": "a338e568",
   "metadata": {},
   "outputs": [],
   "source": [
    "\"\"\" заполнение оставшихся пропусков (в течение публикации объявления) средним значением \n",
    "         количества просмотров в предшествующий день и следующий день публикациии \"\"\"\n",
    "\n",
    "as_history_df['views'].interpolate(inplace=True)"
   ]
  },
  {
   "cell_type": "code",
   "execution_count": 35,
   "id": "56ff6ef0",
   "metadata": {},
   "outputs": [
    {
     "data": {
      "text/plain": [
       "marker_id    0\n",
       "price        0\n",
       "val_id       0\n",
       "views        0\n",
       "date         0\n",
       "dtype: int64"
      ]
     },
     "execution_count": 35,
     "metadata": {},
     "output_type": "execute_result"
    }
   ],
   "source": [
    "# проверка заполнение пропусков\n",
    "as_history_df.isna().sum()"
   ]
  },
  {
   "cell_type": "code",
   "execution_count": 36,
   "id": "2c19f940",
   "metadata": {},
   "outputs": [],
   "source": [
    "# преобразование типа данных \n",
    "as_history_df['date'] = pd.to_datetime(as_history_df['date'])\n",
    "as_history_df = as_history_df.astype({'views': \"int64\"})"
   ]
  },
  {
   "cell_type": "code",
   "execution_count": 37,
   "id": "3f6b80c3",
   "metadata": {},
   "outputs": [
    {
     "name": "stdout",
     "output_type": "stream",
     "text": [
      "<class 'pandas.core.frame.DataFrame'>\n",
      "RangeIndex: 11071 entries, 0 to 11070\n",
      "Data columns (total 5 columns):\n",
      " #   Column     Non-Null Count  Dtype         \n",
      "---  ------     --------------  -----         \n",
      " 0   marker_id  11071 non-null  int64         \n",
      " 1   price      11071 non-null  int64         \n",
      " 2   val_id     11071 non-null  int64         \n",
      " 3   views      11071 non-null  int64         \n",
      " 4   date       11071 non-null  datetime64[ns]\n",
      "dtypes: datetime64[ns](1), int64(4)\n",
      "memory usage: 432.6 KB\n"
     ]
    }
   ],
   "source": [
    "# проверка преобразования типа данных\n",
    "as_history_df.info()"
   ]
  },
  {
   "cell_type": "code",
   "execution_count": 38,
   "id": "2eb7ead0",
   "metadata": {},
   "outputs": [],
   "source": [
    "# запись предобработанных данных в файл\n",
    "as_history_df.to_csv('as_history.csv', encoding='utf-8', index=False)"
   ]
  },
  {
   "cell_type": "code",
   "execution_count": 41,
   "id": "134b5da2",
   "metadata": {},
   "outputs": [
    {
     "data": {
      "text/html": [
       "<div>\n",
       "<style scoped>\n",
       "    .dataframe tbody tr th:only-of-type {\n",
       "        vertical-align: middle;\n",
       "    }\n",
       "\n",
       "    .dataframe tbody tr th {\n",
       "        vertical-align: top;\n",
       "    }\n",
       "\n",
       "    .dataframe thead th {\n",
       "        text-align: right;\n",
       "    }\n",
       "</style>\n",
       "<table border=\"1\" class=\"dataframe\">\n",
       "  <thead>\n",
       "    <tr style=\"text-align: right;\">\n",
       "      <th></th>\n",
       "      <th>marker_id</th>\n",
       "      <th>price</th>\n",
       "      <th>val_id</th>\n",
       "      <th>views</th>\n",
       "      <th>date</th>\n",
       "    </tr>\n",
       "  </thead>\n",
       "  <tbody>\n",
       "    <tr>\n",
       "      <th>0</th>\n",
       "      <td>389475304</td>\n",
       "      <td>2950000</td>\n",
       "      <td>1</td>\n",
       "      <td>344</td>\n",
       "      <td>2022-04-18</td>\n",
       "    </tr>\n",
       "    <tr>\n",
       "      <th>1</th>\n",
       "      <td>389475304</td>\n",
       "      <td>2950000</td>\n",
       "      <td>1</td>\n",
       "      <td>440</td>\n",
       "      <td>2022-04-19</td>\n",
       "    </tr>\n",
       "    <tr>\n",
       "      <th>2</th>\n",
       "      <td>600204697</td>\n",
       "      <td>1500000</td>\n",
       "      <td>1</td>\n",
       "      <td>1127</td>\n",
       "      <td>2022-03-17</td>\n",
       "    </tr>\n",
       "    <tr>\n",
       "      <th>3</th>\n",
       "      <td>600204697</td>\n",
       "      <td>1500000</td>\n",
       "      <td>1</td>\n",
       "      <td>1156</td>\n",
       "      <td>2022-03-18</td>\n",
       "    </tr>\n",
       "    <tr>\n",
       "      <th>4</th>\n",
       "      <td>600204697</td>\n",
       "      <td>1500000</td>\n",
       "      <td>1</td>\n",
       "      <td>1259</td>\n",
       "      <td>2022-03-21</td>\n",
       "    </tr>\n",
       "  </tbody>\n",
       "</table>\n",
       "</div>"
      ],
      "text/plain": [
       "   marker_id    price  val_id  views       date\n",
       "0  389475304  2950000       1    344 2022-04-18\n",
       "1  389475304  2950000       1    440 2022-04-19\n",
       "2  600204697  1500000       1   1127 2022-03-17\n",
       "3  600204697  1500000       1   1156 2022-03-18\n",
       "4  600204697  1500000       1   1259 2022-03-21"
      ]
     },
     "execution_count": 41,
     "metadata": {},
     "output_type": "execute_result"
    }
   ],
   "source": [
    "# проверка записи данных в файл, вывод данных\n",
    "as_history_df = pd.read_csv('as_history.csv', parse_dates=['date'], encoding='utf-8')\n",
    "as_history_df.head()"
   ]
  },
  {
   "cell_type": "markdown",
   "id": "1c250bf7",
   "metadata": {},
   "source": [
    "* ## первичный анализ данных"
   ]
  },
  {
   "cell_type": "code",
   "execution_count": 42,
   "id": "41a8788e",
   "metadata": {},
   "outputs": [
    {
     "name": "stdout",
     "output_type": "stream",
     "text": [
      "Данные по динамике стоимости и просмотрам объявлений квартир в г. Зеленодольск собраны с 2022-03-16 по 2022-04-19\n"
     ]
    }
   ],
   "source": [
    "# период за который были собраны данные\n",
    "start_date = as_history_df['date'].dt.date.min()\n",
    "last_date = as_history_df['date'].dt.date.max()\n",
    "print(f'Данные по динамике стоимости и просмотрам объявлений квартир в г. Зеленодольск собраны с {start_date} по {last_date}')"
   ]
  },
  {
   "cell_type": "code",
   "execution_count": 43,
   "id": "74655823",
   "metadata": {},
   "outputs": [
    {
     "name": "stdout",
     "output_type": "stream",
     "text": [
      "Данные по динамике стоимости и просмотрам объявлений квартир в г. Зеленодольск собраны с 2022-03-16 по 2022-04-19\n"
     ]
    }
   ],
   "source": [
    "# получения периода за который были собраны данные\n",
    "cursor.execute(\"SELECT MIN(date) AS min_data, MAX(date) AS max_date \\\n",
    "                FROM as_history;\")\n",
    "date_info = cursor.fetchall()\n",
    "start_date = date_info[0][0]\n",
    "last_date = date_info[0][1]\n",
    "print(f'Данные по динамике стоимости и просмотрам объявлений квартир в г. Зеленодольск собраны с {start_date} по {last_date}')"
   ]
  },
  {
   "cell_type": "code",
   "execution_count": 44,
   "id": "5fe6330f",
   "metadata": {},
   "outputs": [
    {
     "data": {
      "text/plain": [
       "961"
      ]
     },
     "execution_count": 44,
     "metadata": {},
     "output_type": "execute_result"
    }
   ],
   "source": [
    "# количество квартир в базе данных\n",
    "as_history_df['marker_id'].nunique()"
   ]
  },
  {
   "cell_type": "code",
   "execution_count": 45,
   "id": "8ade547d",
   "metadata": {},
   "outputs": [
    {
     "data": {
      "text/plain": [
       "961"
      ]
     },
     "execution_count": 45,
     "metadata": {},
     "output_type": "execute_result"
    }
   ],
   "source": [
    "# количество квартир в базе данных\n",
    "cursor.execute(\"SELECT COUNT(DISTINCT marker_id) \\\n",
    "                FROM as_history;\")\n",
    "cursor.fetchmany(1)[0][0]"
   ]
  },
  {
   "cell_type": "markdown",
   "id": "1a62f549",
   "metadata": {},
   "source": [
    "В базе данных собрана информация по 961 квартире"
   ]
  },
  {
   "cell_type": "code",
   "execution_count": 103,
   "id": "8a64dbf0",
   "metadata": {},
   "outputs": [
    {
     "data": {
      "text/html": [
       "<div>\n",
       "<style scoped>\n",
       "    .dataframe tbody tr th:only-of-type {\n",
       "        vertical-align: middle;\n",
       "    }\n",
       "\n",
       "    .dataframe tbody tr th {\n",
       "        vertical-align: top;\n",
       "    }\n",
       "\n",
       "    .dataframe thead th {\n",
       "        text-align: right;\n",
       "    }\n",
       "</style>\n",
       "<table border=\"1\" class=\"dataframe\">\n",
       "  <thead>\n",
       "    <tr style=\"text-align: right;\">\n",
       "      <th></th>\n",
       "      <th>marker_id</th>\n",
       "      <th>AVG_price</th>\n",
       "      <th>views</th>\n",
       "      <th>COUNT_date</th>\n",
       "    </tr>\n",
       "  </thead>\n",
       "  <tbody>\n",
       "    <tr>\n",
       "      <th>0</th>\n",
       "      <td>389475304</td>\n",
       "      <td>2950000.0</td>\n",
       "      <td>440</td>\n",
       "      <td>2</td>\n",
       "    </tr>\n",
       "    <tr>\n",
       "      <th>1</th>\n",
       "      <td>600204697</td>\n",
       "      <td>1500000.0</td>\n",
       "      <td>1511</td>\n",
       "      <td>23</td>\n",
       "    </tr>\n",
       "    <tr>\n",
       "      <th>2</th>\n",
       "      <td>671949391</td>\n",
       "      <td>4970000.0</td>\n",
       "      <td>8036</td>\n",
       "      <td>13</td>\n",
       "    </tr>\n",
       "    <tr>\n",
       "      <th>3</th>\n",
       "      <td>700241877</td>\n",
       "      <td>2000000.0</td>\n",
       "      <td>823</td>\n",
       "      <td>12</td>\n",
       "    </tr>\n",
       "    <tr>\n",
       "      <th>4</th>\n",
       "      <td>1133382367</td>\n",
       "      <td>6100000.0</td>\n",
       "      <td>11838</td>\n",
       "      <td>11</td>\n",
       "    </tr>\n",
       "  </tbody>\n",
       "</table>\n",
       "</div>"
      ],
      "text/plain": [
       "    marker_id  AVG_price  views  COUNT_date\n",
       "0   389475304  2950000.0    440           2\n",
       "1   600204697  1500000.0   1511          23\n",
       "2   671949391  4970000.0   8036          13\n",
       "3   700241877  2000000.0    823          12\n",
       "4  1133382367  6100000.0  11838          11"
      ]
     },
     "execution_count": 103,
     "metadata": {},
     "output_type": "execute_result"
    }
   ],
   "source": [
    "# количество дней публикации по объявлениям, средняя стоимость продажи в период публикации и итоговое количество просмотров\n",
    "marker_id_df = as_history_df.groupby('marker_id', as_index=False) \\\n",
    "                            .agg({'price' : 'mean', 'views' : np.max, 'date' : 'count'}) \\\n",
    "                            .rename(columns={\"price\" : \"AVG_price\", 'date' : \"COUNT_date\"})\n",
    "marker_id_df.head()"
   ]
  },
  {
   "cell_type": "code",
   "execution_count": 104,
   "id": "dd71522a",
   "metadata": {},
   "outputs": [
    {
     "data": {
      "text/html": [
       "<div>\n",
       "<style scoped>\n",
       "    .dataframe tbody tr th:only-of-type {\n",
       "        vertical-align: middle;\n",
       "    }\n",
       "\n",
       "    .dataframe tbody tr th {\n",
       "        vertical-align: top;\n",
       "    }\n",
       "\n",
       "    .dataframe thead th {\n",
       "        text-align: right;\n",
       "    }\n",
       "</style>\n",
       "<table border=\"1\" class=\"dataframe\">\n",
       "  <thead>\n",
       "    <tr style=\"text-align: right;\">\n",
       "      <th></th>\n",
       "      <th>marker_id</th>\n",
       "      <th>AVG_price</th>\n",
       "      <th>views</th>\n",
       "      <th>COUNT_date</th>\n",
       "    </tr>\n",
       "  </thead>\n",
       "  <tbody>\n",
       "    <tr>\n",
       "      <th>0</th>\n",
       "      <td>389475304</td>\n",
       "      <td>2950000.0</td>\n",
       "      <td>440</td>\n",
       "      <td>2</td>\n",
       "    </tr>\n",
       "    <tr>\n",
       "      <th>1</th>\n",
       "      <td>600204697</td>\n",
       "      <td>1500000.0</td>\n",
       "      <td>1511</td>\n",
       "      <td>23</td>\n",
       "    </tr>\n",
       "    <tr>\n",
       "      <th>2</th>\n",
       "      <td>671949391</td>\n",
       "      <td>4970000.0</td>\n",
       "      <td>8036</td>\n",
       "      <td>13</td>\n",
       "    </tr>\n",
       "    <tr>\n",
       "      <th>3</th>\n",
       "      <td>700241877</td>\n",
       "      <td>2000000.0</td>\n",
       "      <td>823</td>\n",
       "      <td>12</td>\n",
       "    </tr>\n",
       "    <tr>\n",
       "      <th>4</th>\n",
       "      <td>1133382367</td>\n",
       "      <td>6100000.0</td>\n",
       "      <td>11838</td>\n",
       "      <td>11</td>\n",
       "    </tr>\n",
       "  </tbody>\n",
       "</table>\n",
       "</div>"
      ],
      "text/plain": [
       "    marker_id  AVG_price  views  COUNT_date\n",
       "0   389475304  2950000.0    440           2\n",
       "1   600204697  1500000.0   1511          23\n",
       "2   671949391  4970000.0   8036          13\n",
       "3   700241877  2000000.0    823          12\n",
       "4  1133382367  6100000.0  11838          11"
      ]
     },
     "execution_count": 104,
     "metadata": {},
     "output_type": "execute_result"
    }
   ],
   "source": [
    "# количество дней публикации по объявлениям, средняя стоимость продажи в период публикации и итоговое количество просмотров\n",
    "cursor.execute(\"SELECT marker_id, AVG(price) AS AVG_price, MAX(views) AS views, COUNT(date) AS COUNT_date \\\n",
    "                FROM as_history \\\n",
    "                GROUP BY marker_id;\")\n",
    "marker_id = cursor.fetchall()\n",
    "colnames = [\"marker_id\", \"AVG_price\", \"views\", \"COUNT_date\"]\n",
    "marker_id_df_sql = pd.DataFrame(data=marker_id, columns=colnames)\n",
    "marker_id_df_sql.head()"
   ]
  },
  {
   "cell_type": "code",
   "execution_count": 62,
   "id": "6308bd77",
   "metadata": {},
   "outputs": [
    {
     "data": {
      "text/plain": [
       "count    961.000000\n",
       "mean      11.520291\n",
       "std        7.906475\n",
       "min        1.000000\n",
       "25%        5.000000\n",
       "50%       10.000000\n",
       "75%       19.000000\n",
       "max       25.000000\n",
       "Name: date, dtype: float64"
      ]
     },
     "execution_count": 62,
     "metadata": {},
     "output_type": "execute_result"
    }
   ],
   "source": [
    "# статистика по дням публикации\n",
    "marker_id_df['date'].describe()"
   ]
  },
  {
   "cell_type": "markdown",
   "id": "edcfbf9e",
   "metadata": {},
   "source": [
    "В среднем продолжительность публикации объявления о продаже квартиры 10 дней"
   ]
  },
  {
   "cell_type": "code",
   "execution_count": 63,
   "id": "01bf619d",
   "metadata": {},
   "outputs": [
    {
     "data": {
      "text/html": [
       "<div>\n",
       "<style scoped>\n",
       "    .dataframe tbody tr th:only-of-type {\n",
       "        vertical-align: middle;\n",
       "    }\n",
       "\n",
       "    .dataframe tbody tr th {\n",
       "        vertical-align: top;\n",
       "    }\n",
       "\n",
       "    .dataframe thead th {\n",
       "        text-align: right;\n",
       "    }\n",
       "</style>\n",
       "<table border=\"1\" class=\"dataframe\">\n",
       "  <thead>\n",
       "    <tr style=\"text-align: right;\">\n",
       "      <th></th>\n",
       "      <th>price</th>\n",
       "      <th>views</th>\n",
       "    </tr>\n",
       "  </thead>\n",
       "  <tbody>\n",
       "    <tr>\n",
       "      <th>count</th>\n",
       "      <td>1.107100e+04</td>\n",
       "      <td>11071.000000</td>\n",
       "    </tr>\n",
       "    <tr>\n",
       "      <th>mean</th>\n",
       "      <td>3.745640e+06</td>\n",
       "      <td>1504.355704</td>\n",
       "    </tr>\n",
       "    <tr>\n",
       "      <th>std</th>\n",
       "      <td>1.393083e+06</td>\n",
       "      <td>1813.087439</td>\n",
       "    </tr>\n",
       "    <tr>\n",
       "      <th>min</th>\n",
       "      <td>1.299000e+03</td>\n",
       "      <td>0.000000</td>\n",
       "    </tr>\n",
       "    <tr>\n",
       "      <th>25%</th>\n",
       "      <td>2.840000e+06</td>\n",
       "      <td>351.000000</td>\n",
       "    </tr>\n",
       "    <tr>\n",
       "      <th>50%</th>\n",
       "      <td>3.590000e+06</td>\n",
       "      <td>867.000000</td>\n",
       "    </tr>\n",
       "    <tr>\n",
       "      <th>75%</th>\n",
       "      <td>4.460000e+06</td>\n",
       "      <td>1910.500000</td>\n",
       "    </tr>\n",
       "    <tr>\n",
       "      <th>max</th>\n",
       "      <td>1.500000e+07</td>\n",
       "      <td>11838.000000</td>\n",
       "    </tr>\n",
       "  </tbody>\n",
       "</table>\n",
       "</div>"
      ],
      "text/plain": [
       "              price         views\n",
       "count  1.107100e+04  11071.000000\n",
       "mean   3.745640e+06   1504.355704\n",
       "std    1.393083e+06   1813.087439\n",
       "min    1.299000e+03      0.000000\n",
       "25%    2.840000e+06    351.000000\n",
       "50%    3.590000e+06    867.000000\n",
       "75%    4.460000e+06   1910.500000\n",
       "max    1.500000e+07  11838.000000"
      ]
     },
     "execution_count": 63,
     "metadata": {},
     "output_type": "execute_result"
    }
   ],
   "source": [
    "# сводная статистика по стоимсоти продаж и просмотрам\n",
    "as_history_df[['price', 'views']].describe()"
   ]
  },
  {
   "cell_type": "markdown",
   "id": "58de3b64",
   "metadata": {},
   "source": [
    "Присутствуют данные с сомнительной стоимостью квартиры (минимальная цена равна 1 299,00 руб.) \\\n",
    "75% квартир имеют стоимость менее 4,5 млн. рублей"
   ]
  },
  {
   "cell_type": "markdown",
   "id": "96ae6b5c",
   "metadata": {},
   "source": [
    "* ## анализ стоимости квартир"
   ]
  },
  {
   "cell_type": "code",
   "execution_count": 64,
   "id": "a7ace489",
   "metadata": {},
   "outputs": [
    {
     "data": {
      "image/png": "[encoded data removed]",
      "text/plain": [
       "<Figure size 1440x432 with 1 Axes>"
      ]
     },
     "metadata": {
      "needs_background": "light"
     },
     "output_type": "display_data"
    }
   ],
   "source": [
    "# график распределения стоимсоти продажи квартир в г. Зеленодольск\n",
    "fig, ax = plt.subplots(figsize=(20,6))\n",
    "sns.histplot(x=as_history_df['price']) #kde=True\n",
    "ax.set_title('График распределения стоимсоти квартир в г. Зеленодольск')\n",
    "plt.show()"
   ]
  },
  {
   "cell_type": "code",
   "execution_count": 65,
   "id": "2d16b125",
   "metadata": {},
   "outputs": [
    {
     "data": {
      "image/png": "[encoded data removed]",
      "text/plain": [
       "<Figure size 1440x432 with 1 Axes>"
      ]
     },
     "metadata": {
      "needs_background": "light"
     },
     "output_type": "display_data"
    }
   ],
   "source": [
    "# график распределения стоимсоти продажи квартир в г. Зеленодольск\n",
    "fig, ax = plt.subplots(figsize=(20,6))\n",
    "sns.boxplot(x=as_history_df['price'])\n",
    "ax.set_title('График распределения стоимсоти квартир в г. Зеленодольск')\n",
    "plt.show()"
   ]
  },
  {
   "cell_type": "markdown",
   "id": "7ebe17ff",
   "metadata": {},
   "source": [
    "Из графика видно, что присутствуют выбросы по стоимости продажи квартир. \\\n",
    "Можно сделать предположение, что в данные попали объявления о сдаче квартиры по суточно \\\n",
    "или квартиры с дорогой отделкой и мебелью."
   ]
  },
  {
   "cell_type": "code",
   "execution_count": 66,
   "id": "9800135a",
   "metadata": {},
   "outputs": [],
   "source": [
    "# расчет межквартильного размаха по стоимости 'price'\n",
    "price_q1 = as_history_df['price'].quantile(0.25)\n",
    "price_q3 = as_history_df['price'].quantile(0.75)\n",
    "price_iqr = price_q3 - price_q1"
   ]
  },
  {
   "cell_type": "code",
   "execution_count": 67,
   "id": "5419e5f1",
   "metadata": {},
   "outputs": [
    {
     "name": "stdout",
     "output_type": "stream",
     "text": [
      "410000.0\n",
      "6890000.0\n"
     ]
    }
   ],
   "source": [
    "# доверительный интервал по стоимости 'price'\n",
    "price_iqr_outlier_threshold_bottom = price_q1 - 1.5 * price_iqr\n",
    "price_iqr_outlier_threshold_up = price_q3 + 1.5 * price_iqr\n",
    "print(price_iqr_outlier_threshold_bottom)\n",
    "print(price_iqr_outlier_threshold_up)"
   ]
  },
  {
   "cell_type": "code",
   "execution_count": 68,
   "id": "5d8b0932",
   "metadata": {},
   "outputs": [
    {
     "name": "stdout",
     "output_type": "stream",
     "text": [
      "['marker_id', 'href', 'title', 'house_id', 'address', 'seller_id', 'description', 'priority', 'params', 'map_lat', 'map_lon']\n"
     ]
    }
   ],
   "source": [
    "# вывод наименований переменных в таблице as_info\n",
    "cursor.execute(\"PRAGMA table_info('as_info')\")\n",
    "as_info = [name[1] for name in cursor.fetchall()]\n",
    "print(as_info)"
   ]
  },
  {
   "cell_type": "code",
   "execution_count": 69,
   "id": "9f58f5df",
   "metadata": {},
   "outputs": [
    {
     "data": {
      "text/plain": [
       "[(2335422701,),\n",
       " (2303897172,),\n",
       " (2169684764,),\n",
       " (2093381022,),\n",
       " (2319411844,),\n",
       " (2226313413,),\n",
       " (2345119573,),\n",
       " (2323556055,),\n",
       " (2299204813,),\n",
       " (2227936855,),\n",
       " (2356210729,),\n",
       " (2260630965,),\n",
       " (2354832351,),\n",
       " (2313986158,),\n",
       " (2355451420,),\n",
       " (1832586213,),\n",
       " (2363475665,),\n",
       " (2391140491,),\n",
       " (2385883672,),\n",
       " (2255493594,),\n",
       " (2378698736,),\n",
       " (2347116162,),\n",
       " (2394885504,),\n",
       " (2371044851,),\n",
       " (2272403365,),\n",
       " (2272600258,),\n",
       " (2376223141,),\n",
       " (2386068006,),\n",
       " (2410585307,),\n",
       " (1339782339,)]"
      ]
     },
     "execution_count": 69,
     "metadata": {},
     "output_type": "execute_result"
    }
   ],
   "source": [
    "# получение id объявлений с выбросами значений стоимости продажи\n",
    "cursor.execute(\"SELECT DISTINCT marker_id FROM as_history WHERE price < ? OR price > ?;\", \\\n",
    "               (price_iqr_outlier_threshold_bottom, price_iqr_outlier_threshold_up))\n",
    "cursor.fetchall()"
   ]
  },
  {
   "cell_type": "code",
   "execution_count": 70,
   "id": "005b5131",
   "metadata": {},
   "outputs": [
    {
     "data": {
      "text/html": [
       "<div>\n",
       "<style scoped>\n",
       "    .dataframe tbody tr th:only-of-type {\n",
       "        vertical-align: middle;\n",
       "    }\n",
       "\n",
       "    .dataframe tbody tr th {\n",
       "        vertical-align: top;\n",
       "    }\n",
       "\n",
       "    .dataframe thead th {\n",
       "        text-align: right;\n",
       "    }\n",
       "</style>\n",
       "<table border=\"1\" class=\"dataframe\">\n",
       "  <thead>\n",
       "    <tr style=\"text-align: right;\">\n",
       "      <th></th>\n",
       "      <th>marker_id</th>\n",
       "      <th>href</th>\n",
       "      <th>title</th>\n",
       "      <th>description</th>\n",
       "    </tr>\n",
       "  </thead>\n",
       "  <tbody>\n",
       "    <tr>\n",
       "      <th>0</th>\n",
       "      <td>1339782339</td>\n",
       "      <td>https://www.avito.ru/zelenodolsk/kvartiry/5-k....</td>\n",
       "      <td>5-к. квартира, 152 м², 5/6 эт.</td>\n",
       "      <td>В продаже очень просторная и уютная 5-ти комна...</td>\n",
       "    </tr>\n",
       "    <tr>\n",
       "      <th>1</th>\n",
       "      <td>1832586213</td>\n",
       "      <td>https://www.avito.ru/zelenodolsk/kvartiry/3-k....</td>\n",
       "      <td>3-к. квартира, 90 м², 10/11 эт.</td>\n",
       "      <td>Отличная 2-уровневая 3-комнатная улучшенка на ...</td>\n",
       "    </tr>\n",
       "    <tr>\n",
       "      <th>2</th>\n",
       "      <td>2093381022</td>\n",
       "      <td>https://www.avito.ru/zelenodolsk/kvartiry/3-k....</td>\n",
       "      <td>3-к. квартира, 83 м², 3/5 эт.</td>\n",
       "      <td>Квартира с дорогим ремонтом около санатория Во...</td>\n",
       "    </tr>\n",
       "    <tr>\n",
       "      <th>3</th>\n",
       "      <td>2169684764</td>\n",
       "      <td>https://www.avito.ru/zelenodolsk/kvartiry/2-k....</td>\n",
       "      <td>2-к. квартира, 72 м², 5/6 эт.</td>\n",
       "      <td>Уютная, тёплая, шикарная квартира в спальном т...</td>\n",
       "    </tr>\n",
       "    <tr>\n",
       "      <th>4</th>\n",
       "      <td>2226313413</td>\n",
       "      <td>https://www.avito.ru/zelenodolsk/kvartiry/4-k....</td>\n",
       "      <td>4-к. квартира, 102 м², 2/6 эт.</td>\n",
       "      <td>Сделан 6 января 2022 г. Ремонт зала и коридора...</td>\n",
       "    </tr>\n",
       "  </tbody>\n",
       "</table>\n",
       "</div>"
      ],
      "text/plain": [
       "    marker_id                                               href  \\\n",
       "0  1339782339  https://www.avito.ru/zelenodolsk/kvartiry/5-k....   \n",
       "1  1832586213  https://www.avito.ru/zelenodolsk/kvartiry/3-k....   \n",
       "2  2093381022  https://www.avito.ru/zelenodolsk/kvartiry/3-k....   \n",
       "3  2169684764  https://www.avito.ru/zelenodolsk/kvartiry/2-k....   \n",
       "4  2226313413  https://www.avito.ru/zelenodolsk/kvartiry/4-k....   \n",
       "\n",
       "                             title  \\\n",
       "0   5-к. квартира, 152 м², 5/6 эт.   \n",
       "1  3-к. квартира, 90 м², 10/11 эт.   \n",
       "2    3-к. квартира, 83 м², 3/5 эт.   \n",
       "3    2-к. квартира, 72 м², 5/6 эт.   \n",
       "4   4-к. квартира, 102 м², 2/6 эт.   \n",
       "\n",
       "                                         description  \n",
       "0  В продаже очень просторная и уютная 5-ти комна...  \n",
       "1  Отличная 2-уровневая 3-комнатная улучшенка на ...  \n",
       "2  Квартира с дорогим ремонтом около санатория Во...  \n",
       "3  Уютная, тёплая, шикарная квартира в спальном т...  \n",
       "4  Сделан 6 января 2022 г. Ремонт зала и коридора...  "
      ]
     },
     "execution_count": 70,
     "metadata": {},
     "output_type": "execute_result"
    }
   ],
   "source": [
    "# получение данных по объявлениям с выбросами данных по стоимости\n",
    "cursor.execute(\"SELECT marker_id, href, title, description \\\n",
    "                FROM as_info \\\n",
    "                WHERE marker_id IN (SELECT DISTINCT marker_id FROM as_history WHERE price < ? OR price > ?);\", \\\n",
    "               (price_iqr_outlier_threshold_bottom, price_iqr_outlier_threshold_up))\n",
    "query_data = cursor.fetchall()\n",
    "colnames = ['marker_id', 'href', 'title', 'description']\n",
    "release_price_df = pd.DataFrame(data=query_data, columns=colnames)\n",
    "release_price_df.head()"
   ]
  },
  {
   "cell_type": "code",
   "execution_count": 71,
   "id": "e5e3879b",
   "metadata": {},
   "outputs": [],
   "source": [
    "\"\"\" проверка гипотезы - в данные попали объявления о сдаче квартиры по суточно \n",
    "            или квартиры с дорогой отделкой и мебелью \"\"\"\n",
    "\n",
    "release_price_df['description_sale'] = release_price_df['description'] \\\n",
    "                                       .apply(lambda x: 'дорог' in x.lower() or 'прод' in x.lower())"
   ]
  },
  {
   "cell_type": "code",
   "execution_count": 76,
   "id": "d3ace7fc",
   "metadata": {},
   "outputs": [
    {
     "data": {
      "text/plain": [
       "7"
      ]
     },
     "execution_count": 76,
     "metadata": {},
     "output_type": "execute_result"
    }
   ],
   "source": [
    "# количество сомнительных объявлений\n",
    "release_price_df.query('description_sale == False').shape[0]"
   ]
  },
  {
   "cell_type": "code",
   "execution_count": 77,
   "id": "51431e3f",
   "metadata": {},
   "outputs": [
    {
     "data": {
      "text/html": [
       "<div>\n",
       "<style scoped>\n",
       "    .dataframe tbody tr th:only-of-type {\n",
       "        vertical-align: middle;\n",
       "    }\n",
       "\n",
       "    .dataframe tbody tr th {\n",
       "        vertical-align: top;\n",
       "    }\n",
       "\n",
       "    .dataframe thead th {\n",
       "        text-align: right;\n",
       "    }\n",
       "</style>\n",
       "<table border=\"1\" class=\"dataframe\">\n",
       "  <thead>\n",
       "    <tr style=\"text-align: right;\">\n",
       "      <th></th>\n",
       "      <th>marker_id</th>\n",
       "      <th>href</th>\n",
       "      <th>title</th>\n",
       "      <th>description</th>\n",
       "      <th>description_sale</th>\n",
       "    </tr>\n",
       "  </thead>\n",
       "  <tbody>\n",
       "    <tr>\n",
       "      <th>5</th>\n",
       "      <td>2227936855</td>\n",
       "      <td>https://www.avito.ru/zelenodolsk/kvartiry/3-k....</td>\n",
       "      <td>3-к. квартира, 77 м², 4/9 эт.</td>\n",
       "      <td>Квартира с индивидуальным отоплением по улице ...</td>\n",
       "      <td>False</td>\n",
       "    </tr>\n",
       "    <tr>\n",
       "      <th>10</th>\n",
       "      <td>2299204813</td>\n",
       "      <td>https://www.avito.ru/zelenodolsk/kvartiry/3-k....</td>\n",
       "      <td>3-к. квартира, 87,1 м², 1/5 эт.</td>\n",
       "      <td>Дом находится в очень удобном, тихом и спокойн...</td>\n",
       "      <td>False</td>\n",
       "    </tr>\n",
       "    <tr>\n",
       "      <th>16</th>\n",
       "      <td>2345119573</td>\n",
       "      <td>https://www.avito.ru/zelenodolsk/kvartiry/3-k....</td>\n",
       "      <td>3-к. квартира, 106 м², 4/5 эт.</td>\n",
       "      <td>Дизайнерский ремонт 2021 года. В квартире есть...</td>\n",
       "      <td>False</td>\n",
       "    </tr>\n",
       "    <tr>\n",
       "      <th>18</th>\n",
       "      <td>2354832351</td>\n",
       "      <td>https://www.avito.ru/zelenodolsk/kvartiry/3-k....</td>\n",
       "      <td>3-к. квартира, 85 м², 7/9 эт.</td>\n",
       "      <td>Просторная трехкомнатная квартира в новом, сда...</td>\n",
       "      <td>False</td>\n",
       "    </tr>\n",
       "    <tr>\n",
       "      <th>19</th>\n",
       "      <td>2355451420</td>\n",
       "      <td>https://www.avito.ru/zelenodolsk/kvartiry/3-k....</td>\n",
       "      <td>3-к. квартира, 74 м², 5/10 эт.</td>\n",
       "      <td>Просторная, уютная квартира! Удобное расположе...</td>\n",
       "      <td>False</td>\n",
       "    </tr>\n",
       "    <tr>\n",
       "      <th>20</th>\n",
       "      <td>2356210729</td>\n",
       "      <td>https://www.avito.ru/zelenodolsk/kvartiry/2-k....</td>\n",
       "      <td>2-к. квартира, 72 м², 5/9 эт.</td>\n",
       "      <td>Шикарное предложение для тех кто хочет жить в ...</td>\n",
       "      <td>False</td>\n",
       "    </tr>\n",
       "    <tr>\n",
       "      <th>26</th>\n",
       "      <td>2386068006</td>\n",
       "      <td>https://www.avito.ru/zelenodolsk/kvartiry/3-k....</td>\n",
       "      <td>3-к. квартира, 90 м², 5/5 эт.</td>\n",
       "      <td>Квартира с индивидуальным отоплением в центре ...</td>\n",
       "      <td>False</td>\n",
       "    </tr>\n",
       "  </tbody>\n",
       "</table>\n",
       "</div>"
      ],
      "text/plain": [
       "     marker_id                                               href  \\\n",
       "5   2227936855  https://www.avito.ru/zelenodolsk/kvartiry/3-k....   \n",
       "10  2299204813  https://www.avito.ru/zelenodolsk/kvartiry/3-k....   \n",
       "16  2345119573  https://www.avito.ru/zelenodolsk/kvartiry/3-k....   \n",
       "18  2354832351  https://www.avito.ru/zelenodolsk/kvartiry/3-k....   \n",
       "19  2355451420  https://www.avito.ru/zelenodolsk/kvartiry/3-k....   \n",
       "20  2356210729  https://www.avito.ru/zelenodolsk/kvartiry/2-k....   \n",
       "26  2386068006  https://www.avito.ru/zelenodolsk/kvartiry/3-k....   \n",
       "\n",
       "                              title  \\\n",
       "5     3-к. квартира, 77 м², 4/9 эт.   \n",
       "10  3-к. квартира, 87,1 м², 1/5 эт.   \n",
       "16   3-к. квартира, 106 м², 4/5 эт.   \n",
       "18    3-к. квартира, 85 м², 7/9 эт.   \n",
       "19   3-к. квартира, 74 м², 5/10 эт.   \n",
       "20    2-к. квартира, 72 м², 5/9 эт.   \n",
       "26    3-к. квартира, 90 м², 5/5 эт.   \n",
       "\n",
       "                                          description  description_sale  \n",
       "5   Квартира с индивидуальным отоплением по улице ...             False  \n",
       "10  Дом находится в очень удобном, тихом и спокойн...             False  \n",
       "16  Дизайнерский ремонт 2021 года. В квартире есть...             False  \n",
       "18  Просторная трехкомнатная квартира в новом, сда...             False  \n",
       "19  Просторная, уютная квартира! Удобное расположе...             False  \n",
       "20  Шикарное предложение для тех кто хочет жить в ...             False  \n",
       "26  Квартира с индивидуальным отоплением в центре ...             False  "
      ]
     },
     "execution_count": 77,
     "metadata": {},
     "output_type": "execute_result"
    }
   ],
   "source": [
    "# вывод объявлений, попавших в выборку\n",
    "release_price_df.query('description_sale == False')"
   ]
  },
  {
   "cell_type": "code",
   "execution_count": 78,
   "id": "ffd8c3c8",
   "metadata": {},
   "outputs": [
    {
     "data": {
      "text/plain": [
       "'Дом находится в очень удобном, тихом и спокойном месте. Дом трёхподъездный. Квартира в среднем подъезде, окна выходят на обе стороны, светлая и просторная. Все окна заменены на Rehau. Индивидуальное отопление (двух контурный котел) новый мощный газовый котел Baxi экофор на 240м. Кв. Теплые водяные полы везде (трубы из гофрированной нержавейки), даже в сильные морозы котел работает в среднем режиме, радиаторы оставлены на всякий случай, также подключены к системе. Выполнена стяжка пола керамзитом толщиной 200мм, так как под нами сначала цокольный этаж не был заселён. Квартира на первом этаже, но поднято высоко как на втором, под нами цокольный этаж (Центр детского развития). \\nПросторный отапливаемый подъезд с отдельным тамбуром. На площадке (этаже) всего две квартиры. \\nСо всех сторон спокойные, добропорядочные, дружелюбные соседи. \\nВся мебель практически остаётся, нет смысла разбирать и перевозить. \\nКухня и гардероб из Ikea. \\nИмеется переустройство: объединенный туалет с ванной, объединенная кухня с лоджией. Лоджия(веранда) утеплена и остекленна. \\nКанализация, вентиляция и электричество без проблем, вода чистая с хорошим напором, на весь дом установлена дополнительная насосная станция (давление воды хорошее, без перебоев). \\nПодъездные пути и подъезды всегда чистые, Тсж работает отлично, любой вопрос отрабатывают моментально без лишних слов и доп. Звонков. \\nНовый гараж рядом с домом, построен в этом же году, просторный удобный подъезд, полностью асфальт до гаража. \\nСам собственник с момента постройки. \\nНовая детская площадка у дома устроена в этом году. \\nМашиноместа с обеих сторон дома. Места всегда хватает даже на две машины в семье, чужие не ставят. \\nРассмотрим только обмен.\\nНа свежий коттедж готовый к проживанию в черте города, без доплаты. \\nКвартира без негатива и всякой прочей нечести.'"
      ]
     },
     "execution_count": 78,
     "metadata": {},
     "output_type": "execute_result"
    }
   ],
   "source": [
    "# проверка контекста объявления\n",
    "release_price_df['description'][10]"
   ]
  },
  {
   "cell_type": "markdown",
   "id": "1ad64468",
   "metadata": {},
   "source": [
    "Можно сделать вывод, что все объявления являются релевантными, \\\n",
    "а наличие выбросов с минимальной стоимостью обусловлено сбоем \\\n",
    "в работе программы при сборе данных или не корректной ценой в объявлении"
   ]
  },
  {
   "cell_type": "code",
   "execution_count": 79,
   "id": "80f32e1a",
   "metadata": {},
   "outputs": [
    {
     "data": {
      "text/html": [
       "<div>\n",
       "<style scoped>\n",
       "    .dataframe tbody tr th:only-of-type {\n",
       "        vertical-align: middle;\n",
       "    }\n",
       "\n",
       "    .dataframe tbody tr th {\n",
       "        vertical-align: top;\n",
       "    }\n",
       "\n",
       "    .dataframe thead th {\n",
       "        text-align: right;\n",
       "    }\n",
       "</style>\n",
       "<table border=\"1\" class=\"dataframe\">\n",
       "  <thead>\n",
       "    <tr style=\"text-align: right;\">\n",
       "      <th></th>\n",
       "      <th>marker_id</th>\n",
       "      <th>price</th>\n",
       "      <th>date</th>\n",
       "    </tr>\n",
       "  </thead>\n",
       "  <tbody>\n",
       "    <tr>\n",
       "      <th>0</th>\n",
       "      <td>2347116162</td>\n",
       "      <td>1299</td>\n",
       "      <td>2022-03-28</td>\n",
       "    </tr>\n",
       "    <tr>\n",
       "      <th>1</th>\n",
       "      <td>2347116162</td>\n",
       "      <td>1299</td>\n",
       "      <td>2022-03-29</td>\n",
       "    </tr>\n",
       "    <tr>\n",
       "      <th>2</th>\n",
       "      <td>2347116162</td>\n",
       "      <td>1299</td>\n",
       "      <td>2022-03-30</td>\n",
       "    </tr>\n",
       "  </tbody>\n",
       "</table>\n",
       "</div>"
      ],
      "text/plain": [
       "    marker_id  price        date\n",
       "0  2347116162   1299  2022-03-28\n",
       "1  2347116162   1299  2022-03-29\n",
       "2  2347116162   1299  2022-03-30"
      ]
     },
     "execution_count": 79,
     "metadata": {},
     "output_type": "execute_result"
    }
   ],
   "source": [
    "# получение данных по объявлениям с минимальной стоимостью\n",
    "cursor.execute(\"SELECT marker_id, price, date \\\n",
    "                FROM as_history \\\n",
    "                WHERE price = (SELECT MIN(price) FROM as_history);\")\n",
    "query_data = cursor.fetchall()\n",
    "colnames = ['marker_id', 'price', 'date']\n",
    "price_min_df = pd.DataFrame(data=query_data, columns=colnames)\n",
    "price_min_df.head()"
   ]
  },
  {
   "cell_type": "code",
   "execution_count": 80,
   "id": "3e4b29eb",
   "metadata": {},
   "outputs": [
    {
     "data": {
      "text/html": [
       "<div>\n",
       "<style scoped>\n",
       "    .dataframe tbody tr th:only-of-type {\n",
       "        vertical-align: middle;\n",
       "    }\n",
       "\n",
       "    .dataframe tbody tr th {\n",
       "        vertical-align: top;\n",
       "    }\n",
       "\n",
       "    .dataframe thead th {\n",
       "        text-align: right;\n",
       "    }\n",
       "</style>\n",
       "<table border=\"1\" class=\"dataframe\">\n",
       "  <thead>\n",
       "    <tr style=\"text-align: right;\">\n",
       "      <th></th>\n",
       "      <th>marker_id</th>\n",
       "      <th>price</th>\n",
       "      <th>val_id</th>\n",
       "      <th>views</th>\n",
       "      <th>date</th>\n",
       "    </tr>\n",
       "  </thead>\n",
       "  <tbody>\n",
       "    <tr>\n",
       "      <th>6028</th>\n",
       "      <td>2347116162</td>\n",
       "      <td>1299</td>\n",
       "      <td>1</td>\n",
       "      <td>481</td>\n",
       "      <td>2022-03-28</td>\n",
       "    </tr>\n",
       "    <tr>\n",
       "      <th>6029</th>\n",
       "      <td>2347116162</td>\n",
       "      <td>1299</td>\n",
       "      <td>1</td>\n",
       "      <td>589</td>\n",
       "      <td>2022-03-29</td>\n",
       "    </tr>\n",
       "    <tr>\n",
       "      <th>6030</th>\n",
       "      <td>2347116162</td>\n",
       "      <td>1299</td>\n",
       "      <td>1</td>\n",
       "      <td>722</td>\n",
       "      <td>2022-03-30</td>\n",
       "    </tr>\n",
       "  </tbody>\n",
       "</table>\n",
       "</div>"
      ],
      "text/plain": [
       "       marker_id  price  val_id  views       date\n",
       "6028  2347116162   1299       1    481 2022-03-28\n",
       "6029  2347116162   1299       1    589 2022-03-29\n",
       "6030  2347116162   1299       1    722 2022-03-30"
      ]
     },
     "execution_count": 80,
     "metadata": {},
     "output_type": "execute_result"
    }
   ],
   "source": [
    "# выборка данных с минимальной стоимостью\n",
    "as_history_df[as_history_df['price'] == as_history_df['price'].min()]"
   ]
  },
  {
   "cell_type": "code",
   "execution_count": 81,
   "id": "adb5e50f",
   "metadata": {},
   "outputs": [
    {
     "data": {
      "text/html": [
       "<div>\n",
       "<style scoped>\n",
       "    .dataframe tbody tr th:only-of-type {\n",
       "        vertical-align: middle;\n",
       "    }\n",
       "\n",
       "    .dataframe tbody tr th {\n",
       "        vertical-align: top;\n",
       "    }\n",
       "\n",
       "    .dataframe thead th {\n",
       "        text-align: right;\n",
       "    }\n",
       "</style>\n",
       "<table border=\"1\" class=\"dataframe\">\n",
       "  <thead>\n",
       "    <tr style=\"text-align: right;\">\n",
       "      <th></th>\n",
       "      <th>marker_id</th>\n",
       "      <th>price</th>\n",
       "      <th>val_id</th>\n",
       "      <th>views</th>\n",
       "      <th>date</th>\n",
       "    </tr>\n",
       "  </thead>\n",
       "  <tbody>\n",
       "    <tr>\n",
       "      <th>6027</th>\n",
       "      <td>2347116162</td>\n",
       "      <td>1300000</td>\n",
       "      <td>1</td>\n",
       "      <td>108</td>\n",
       "      <td>2022-03-25</td>\n",
       "    </tr>\n",
       "    <tr>\n",
       "      <th>6028</th>\n",
       "      <td>2347116162</td>\n",
       "      <td>1299</td>\n",
       "      <td>1</td>\n",
       "      <td>481</td>\n",
       "      <td>2022-03-28</td>\n",
       "    </tr>\n",
       "    <tr>\n",
       "      <th>6029</th>\n",
       "      <td>2347116162</td>\n",
       "      <td>1299</td>\n",
       "      <td>1</td>\n",
       "      <td>589</td>\n",
       "      <td>2022-03-29</td>\n",
       "    </tr>\n",
       "    <tr>\n",
       "      <th>6030</th>\n",
       "      <td>2347116162</td>\n",
       "      <td>1299</td>\n",
       "      <td>1</td>\n",
       "      <td>722</td>\n",
       "      <td>2022-03-30</td>\n",
       "    </tr>\n",
       "    <tr>\n",
       "      <th>6031</th>\n",
       "      <td>2347116162</td>\n",
       "      <td>1299000</td>\n",
       "      <td>1</td>\n",
       "      <td>813</td>\n",
       "      <td>2022-03-31</td>\n",
       "    </tr>\n",
       "    <tr>\n",
       "      <th>6032</th>\n",
       "      <td>2347116162</td>\n",
       "      <td>1299000</td>\n",
       "      <td>1</td>\n",
       "      <td>689</td>\n",
       "      <td>2022-04-01</td>\n",
       "    </tr>\n",
       "    <tr>\n",
       "      <th>6033</th>\n",
       "      <td>2347116162</td>\n",
       "      <td>1299000</td>\n",
       "      <td>1</td>\n",
       "      <td>878</td>\n",
       "      <td>2022-04-04</td>\n",
       "    </tr>\n",
       "    <tr>\n",
       "      <th>6034</th>\n",
       "      <td>2347116162</td>\n",
       "      <td>1299000</td>\n",
       "      <td>1</td>\n",
       "      <td>912</td>\n",
       "      <td>2022-04-05</td>\n",
       "    </tr>\n",
       "    <tr>\n",
       "      <th>6035</th>\n",
       "      <td>2347116162</td>\n",
       "      <td>1299000</td>\n",
       "      <td>1</td>\n",
       "      <td>954</td>\n",
       "      <td>2022-04-06</td>\n",
       "    </tr>\n",
       "    <tr>\n",
       "      <th>6036</th>\n",
       "      <td>2347116162</td>\n",
       "      <td>1299000</td>\n",
       "      <td>1</td>\n",
       "      <td>985</td>\n",
       "      <td>2022-04-07</td>\n",
       "    </tr>\n",
       "    <tr>\n",
       "      <th>6037</th>\n",
       "      <td>2347116162</td>\n",
       "      <td>1299000</td>\n",
       "      <td>1</td>\n",
       "      <td>1010</td>\n",
       "      <td>2022-04-08</td>\n",
       "    </tr>\n",
       "    <tr>\n",
       "      <th>6038</th>\n",
       "      <td>2347116162</td>\n",
       "      <td>1299000</td>\n",
       "      <td>1</td>\n",
       "      <td>1069</td>\n",
       "      <td>2022-04-11</td>\n",
       "    </tr>\n",
       "    <tr>\n",
       "      <th>6039</th>\n",
       "      <td>2347116162</td>\n",
       "      <td>1299000</td>\n",
       "      <td>1</td>\n",
       "      <td>1092</td>\n",
       "      <td>2022-04-12</td>\n",
       "    </tr>\n",
       "    <tr>\n",
       "      <th>6040</th>\n",
       "      <td>2347116162</td>\n",
       "      <td>1299000</td>\n",
       "      <td>1</td>\n",
       "      <td>1122</td>\n",
       "      <td>2022-04-13</td>\n",
       "    </tr>\n",
       "    <tr>\n",
       "      <th>6041</th>\n",
       "      <td>2347116162</td>\n",
       "      <td>1270000</td>\n",
       "      <td>1</td>\n",
       "      <td>1166</td>\n",
       "      <td>2022-04-14</td>\n",
       "    </tr>\n",
       "    <tr>\n",
       "      <th>6042</th>\n",
       "      <td>2347116162</td>\n",
       "      <td>1270000</td>\n",
       "      <td>1</td>\n",
       "      <td>1222</td>\n",
       "      <td>2022-04-15</td>\n",
       "    </tr>\n",
       "    <tr>\n",
       "      <th>6043</th>\n",
       "      <td>2347116162</td>\n",
       "      <td>1199000</td>\n",
       "      <td>1</td>\n",
       "      <td>1410</td>\n",
       "      <td>2022-04-18</td>\n",
       "    </tr>\n",
       "    <tr>\n",
       "      <th>6044</th>\n",
       "      <td>2347116162</td>\n",
       "      <td>1300000</td>\n",
       "      <td>1</td>\n",
       "      <td>1498</td>\n",
       "      <td>2022-04-19</td>\n",
       "    </tr>\n",
       "  </tbody>\n",
       "</table>\n",
       "</div>"
      ],
      "text/plain": [
       "       marker_id    price  val_id  views       date\n",
       "6027  2347116162  1300000       1    108 2022-03-25\n",
       "6028  2347116162     1299       1    481 2022-03-28\n",
       "6029  2347116162     1299       1    589 2022-03-29\n",
       "6030  2347116162     1299       1    722 2022-03-30\n",
       "6031  2347116162  1299000       1    813 2022-03-31\n",
       "6032  2347116162  1299000       1    689 2022-04-01\n",
       "6033  2347116162  1299000       1    878 2022-04-04\n",
       "6034  2347116162  1299000       1    912 2022-04-05\n",
       "6035  2347116162  1299000       1    954 2022-04-06\n",
       "6036  2347116162  1299000       1    985 2022-04-07\n",
       "6037  2347116162  1299000       1   1010 2022-04-08\n",
       "6038  2347116162  1299000       1   1069 2022-04-11\n",
       "6039  2347116162  1299000       1   1092 2022-04-12\n",
       "6040  2347116162  1299000       1   1122 2022-04-13\n",
       "6041  2347116162  1270000       1   1166 2022-04-14\n",
       "6042  2347116162  1270000       1   1222 2022-04-15\n",
       "6043  2347116162  1199000       1   1410 2022-04-18\n",
       "6044  2347116162  1300000       1   1498 2022-04-19"
      ]
     },
     "execution_count": 81,
     "metadata": {},
     "output_type": "execute_result"
    }
   ],
   "source": [
    "# проверим стоимость для данного объявления в другие дни\n",
    "as_history_df.query('marker_id == 2347116162')"
   ]
  },
  {
   "cell_type": "code",
   "execution_count": 82,
   "id": "61acc4bd",
   "metadata": {},
   "outputs": [
    {
     "data": {
      "text/html": [
       "<div>\n",
       "<style scoped>\n",
       "    .dataframe tbody tr th:only-of-type {\n",
       "        vertical-align: middle;\n",
       "    }\n",
       "\n",
       "    .dataframe tbody tr th {\n",
       "        vertical-align: top;\n",
       "    }\n",
       "\n",
       "    .dataframe thead th {\n",
       "        text-align: right;\n",
       "    }\n",
       "</style>\n",
       "<table border=\"1\" class=\"dataframe\">\n",
       "  <thead>\n",
       "    <tr style=\"text-align: right;\">\n",
       "      <th></th>\n",
       "      <th>marker_id</th>\n",
       "      <th>price</th>\n",
       "      <th>date</th>\n",
       "    </tr>\n",
       "  </thead>\n",
       "  <tbody>\n",
       "    <tr>\n",
       "      <th>0</th>\n",
       "      <td>2347116162</td>\n",
       "      <td>1300000</td>\n",
       "      <td>2022-03-25</td>\n",
       "    </tr>\n",
       "    <tr>\n",
       "      <th>1</th>\n",
       "      <td>2347116162</td>\n",
       "      <td>1299</td>\n",
       "      <td>2022-03-28</td>\n",
       "    </tr>\n",
       "    <tr>\n",
       "      <th>2</th>\n",
       "      <td>2347116162</td>\n",
       "      <td>1299</td>\n",
       "      <td>2022-03-29</td>\n",
       "    </tr>\n",
       "    <tr>\n",
       "      <th>3</th>\n",
       "      <td>2347116162</td>\n",
       "      <td>1299</td>\n",
       "      <td>2022-03-30</td>\n",
       "    </tr>\n",
       "    <tr>\n",
       "      <th>4</th>\n",
       "      <td>2347116162</td>\n",
       "      <td>1299000</td>\n",
       "      <td>2022-03-31</td>\n",
       "    </tr>\n",
       "    <tr>\n",
       "      <th>5</th>\n",
       "      <td>2347116162</td>\n",
       "      <td>1299000</td>\n",
       "      <td>2022-04-01</td>\n",
       "    </tr>\n",
       "    <tr>\n",
       "      <th>6</th>\n",
       "      <td>2347116162</td>\n",
       "      <td>1299000</td>\n",
       "      <td>2022-04-04</td>\n",
       "    </tr>\n",
       "    <tr>\n",
       "      <th>7</th>\n",
       "      <td>2347116162</td>\n",
       "      <td>1299000</td>\n",
       "      <td>2022-04-05</td>\n",
       "    </tr>\n",
       "    <tr>\n",
       "      <th>8</th>\n",
       "      <td>2347116162</td>\n",
       "      <td>1299000</td>\n",
       "      <td>2022-04-06</td>\n",
       "    </tr>\n",
       "    <tr>\n",
       "      <th>9</th>\n",
       "      <td>2347116162</td>\n",
       "      <td>1299000</td>\n",
       "      <td>2022-04-07</td>\n",
       "    </tr>\n",
       "  </tbody>\n",
       "</table>\n",
       "</div>"
      ],
      "text/plain": [
       "    marker_id    price        date\n",
       "0  2347116162  1300000  2022-03-25\n",
       "1  2347116162     1299  2022-03-28\n",
       "2  2347116162     1299  2022-03-29\n",
       "3  2347116162     1299  2022-03-30\n",
       "4  2347116162  1299000  2022-03-31\n",
       "5  2347116162  1299000  2022-04-01\n",
       "6  2347116162  1299000  2022-04-04\n",
       "7  2347116162  1299000  2022-04-05\n",
       "8  2347116162  1299000  2022-04-06\n",
       "9  2347116162  1299000  2022-04-07"
      ]
     },
     "execution_count": 82,
     "metadata": {},
     "output_type": "execute_result"
    }
   ],
   "source": [
    "# получение данных по объявлениям с минимальной стоимостью\n",
    "cursor.execute(\"SELECT marker_id, price, date \\\n",
    "                FROM as_history \\\n",
    "                WHERE marker_id = (SELECT marker_id \\\n",
    "                                   FROM as_history \\\n",
    "                                   WHERE price = (SELECT MIN(price)  FROM as_history));\")\n",
    "query_data = cursor.fetchall()\n",
    "colnames = ['marker_id', 'price', 'date']\n",
    "price_min_df_sql = pd.DataFrame(data=query_data, columns=colnames)\n",
    "price_min_df_sql.head(10)"
   ]
  },
  {
   "cell_type": "markdown",
   "id": "e1483c66",
   "metadata": {},
   "source": [
    "С 28 по 30 марта 2022 г. при сборе данных произошел сбой в программе \\\n",
    "или в объявлении была указана не актуальная цена."
   ]
  },
  {
   "cell_type": "code",
   "execution_count": 83,
   "id": "1d543d85",
   "metadata": {},
   "outputs": [
    {
     "data": {
      "text/plain": [
       "Int64Index([6028, 6029, 6030], dtype='int64')"
      ]
     },
     "execution_count": 83,
     "metadata": {},
     "output_type": "execute_result"
    }
   ],
   "source": [
    "# получаем индексы в Data Frame с минимальной ценой\n",
    "index_2347116162 = as_history_df.query('marker_id == 2347116162 and price == 1299').index\n",
    "index_2347116162"
   ]
  },
  {
   "cell_type": "code",
   "execution_count": 84,
   "id": "fac1e72f",
   "metadata": {},
   "outputs": [
    {
     "name": "stderr",
     "output_type": "stream",
     "text": [
      "<ipython-input-84-200347f48784>:3: SettingWithCopyWarning: \n",
      "A value is trying to be set on a copy of a slice from a DataFrame\n",
      "\n",
      "See the caveats in the documentation: https://pandas.pydata.org/pandas-docs/stable/user_guide/indexing.html#returning-a-view-versus-a-copy\n",
      "  as_history_df['price'][i] = as_history_df['price'][i] * 1000\n"
     ]
    }
   ],
   "source": [
    "# внесение изменений в Data Frame\n",
    "for i in index_2347116162:\n",
    "    as_history_df['price'][i] = as_history_df['price'][i] * 1000  "
   ]
  },
  {
   "cell_type": "code",
   "execution_count": 85,
   "id": "c3894516",
   "metadata": {},
   "outputs": [
    {
     "data": {
      "text/plain": [
       "351000"
      ]
     },
     "execution_count": 85,
     "metadata": {},
     "output_type": "execute_result"
    }
   ],
   "source": [
    "# проверка внесения изменений в Data Frame\n",
    "as_history_df['price'].min()"
   ]
  },
  {
   "cell_type": "code",
   "execution_count": 86,
   "id": "0a5c2766",
   "metadata": {},
   "outputs": [
    {
     "data": {
      "text/plain": [
       "array([2323556055], dtype=int64)"
      ]
     },
     "execution_count": 86,
     "metadata": {},
     "output_type": "execute_result"
    }
   ],
   "source": [
    "# еще раз проверим корректность данных по стоимости, получаем id объявления\n",
    "as_history_df[as_history_df['price'] == as_history_df['price'].min()]['marker_id'].unique() "
   ]
  },
  {
   "cell_type": "code",
   "execution_count": 87,
   "id": "4741d9e6",
   "metadata": {},
   "outputs": [
    {
     "data": {
      "text/plain": [
       "'https://www.avito.ru/zelenodolsk/kvartiry/1-k._kvartira_27m_44et._2323556055'"
      ]
     },
     "execution_count": 87,
     "metadata": {},
     "output_type": "execute_result"
    }
   ],
   "source": [
    "# получаем ссылку на объявление на сайте www.avito.ru\n",
    "cursor.execute(\"SELECT href FROM as_info \\\n",
    "               WHERE marker_id = 2323556055;\")\n",
    "query_data = cursor.fetchall()\n",
    "url = query_data[0][0]\n",
    "url"
   ]
  },
  {
   "cell_type": "code",
   "execution_count": 88,
   "id": "4141417c",
   "metadata": {},
   "outputs": [
    {
     "name": "stderr",
     "output_type": "stream",
     "text": [
      "\n",
      "\n",
      "====== WebDriver manager ======\n",
      "Current google-chrome version is 100.0.4896\n",
      "Get LATEST chromedriver version for 100.0.4896 google-chrome\n",
      "Trying to download new driver from https://chromedriver.storage.googleapis.com/100.0.4896.60/chromedriver_win32.zip\n",
      "Driver has been saved in cache [C:\\Users\\rus_k\\.wdm\\drivers\\chromedriver\\win32\\100.0.4896.60]\n",
      "<ipython-input-88-10bc4cdc9a8c>:2: DeprecationWarning: executable_path has been deprecated, please pass in a Service object\n",
      "  driver = webdriver.Chrome(ChromeDriverManager().install())\n"
     ]
    }
   ],
   "source": [
    "# активация драйвера браузера\n",
    "driver = webdriver.Chrome(ChromeDriverManager().install())"
   ]
  },
  {
   "cell_type": "code",
   "execution_count": 89,
   "id": "e78d7b9c",
   "metadata": {},
   "outputs": [],
   "source": [
    "# получение разметки страницы объявления на сайте www.avito.ru\n",
    "driver.get(url)\n",
    "time.sleep(6)\n",
    "main_page = driver.page_source"
   ]
  },
  {
   "cell_type": "code",
   "execution_count": 90,
   "id": "9934fc6a",
   "metadata": {},
   "outputs": [],
   "source": [
    "# направляем запрос по стоимости продажи квартиры\n",
    "#r = requests.get(url)\n",
    "#soup = BeautifulSoup(r.text, 'html.parser')"
   ]
  },
  {
   "cell_type": "code",
   "execution_count": 94,
   "id": "d24d850e",
   "metadata": {},
   "outputs": [
    {
     "data": {
      "text/plain": [
       "'351 000 ₽'"
      ]
     },
     "execution_count": 94,
     "metadata": {},
     "output_type": "execute_result"
    }
   ],
   "source": [
    "# парсинг стоимости \n",
    "soup = BeautifulSoup(main_page, 'html.parser')\n",
    "soup.find('span', {'class' : 'price-value-main'}).text.rstrip().replace('\\xa0', ' ')"
   ]
  },
  {
   "cell_type": "markdown",
   "id": "acad8c0c",
   "metadata": {},
   "source": [
    "Из запроса видно, что объявление с такой ценой существует"
   ]
  },
  {
   "cell_type": "code",
   "execution_count": null,
   "id": "165d6ae9",
   "metadata": {},
   "outputs": [],
   "source": [
    "# закрытие браузера\n",
    "driver.quit()"
   ]
  },
  {
   "cell_type": "code",
   "execution_count": 105,
   "id": "9d704c66",
   "metadata": {},
   "outputs": [],
   "source": [
    "# запись очишенных данных в файл\n",
    "as_history_df.to_csv('as_history_clean.csv', encoding='utf-8', index=False)"
   ]
  },
  {
   "cell_type": "code",
   "execution_count": 106,
   "id": "bc8ea792",
   "metadata": {},
   "outputs": [
    {
     "data": {
      "text/html": [
       "<div>\n",
       "<style scoped>\n",
       "    .dataframe tbody tr th:only-of-type {\n",
       "        vertical-align: middle;\n",
       "    }\n",
       "\n",
       "    .dataframe tbody tr th {\n",
       "        vertical-align: top;\n",
       "    }\n",
       "\n",
       "    .dataframe thead th {\n",
       "        text-align: right;\n",
       "    }\n",
       "</style>\n",
       "<table border=\"1\" class=\"dataframe\">\n",
       "  <thead>\n",
       "    <tr style=\"text-align: right;\">\n",
       "      <th></th>\n",
       "      <th>marker_id</th>\n",
       "      <th>price</th>\n",
       "      <th>val_id</th>\n",
       "      <th>views</th>\n",
       "      <th>date</th>\n",
       "    </tr>\n",
       "  </thead>\n",
       "  <tbody>\n",
       "    <tr>\n",
       "      <th>0</th>\n",
       "      <td>389475304</td>\n",
       "      <td>2950000</td>\n",
       "      <td>1</td>\n",
       "      <td>344</td>\n",
       "      <td>2022-04-18</td>\n",
       "    </tr>\n",
       "    <tr>\n",
       "      <th>1</th>\n",
       "      <td>389475304</td>\n",
       "      <td>2950000</td>\n",
       "      <td>1</td>\n",
       "      <td>440</td>\n",
       "      <td>2022-04-19</td>\n",
       "    </tr>\n",
       "    <tr>\n",
       "      <th>2</th>\n",
       "      <td>600204697</td>\n",
       "      <td>1500000</td>\n",
       "      <td>1</td>\n",
       "      <td>1127</td>\n",
       "      <td>2022-03-17</td>\n",
       "    </tr>\n",
       "    <tr>\n",
       "      <th>3</th>\n",
       "      <td>600204697</td>\n",
       "      <td>1500000</td>\n",
       "      <td>1</td>\n",
       "      <td>1156</td>\n",
       "      <td>2022-03-18</td>\n",
       "    </tr>\n",
       "    <tr>\n",
       "      <th>4</th>\n",
       "      <td>600204697</td>\n",
       "      <td>1500000</td>\n",
       "      <td>1</td>\n",
       "      <td>1259</td>\n",
       "      <td>2022-03-21</td>\n",
       "    </tr>\n",
       "  </tbody>\n",
       "</table>\n",
       "</div>"
      ],
      "text/plain": [
       "   marker_id    price  val_id  views       date\n",
       "0  389475304  2950000       1    344 2022-04-18\n",
       "1  389475304  2950000       1    440 2022-04-19\n",
       "2  600204697  1500000       1   1127 2022-03-17\n",
       "3  600204697  1500000       1   1156 2022-03-18\n",
       "4  600204697  1500000       1   1259 2022-03-21"
      ]
     },
     "execution_count": 106,
     "metadata": {},
     "output_type": "execute_result"
    }
   ],
   "source": [
    "# проверка записи данных в файл, вывод данных\n",
    "as_history_df = pd.read_csv('as_history_clean.csv', parse_dates=['date'], encoding='utf-8')\n",
    "as_history_df.head()"
   ]
  },
  {
   "cell_type": "code",
   "execution_count": 96,
   "id": "e01682cb",
   "metadata": {},
   "outputs": [
    {
     "data": {
      "text/plain": [
       "[(2347116162, 1299, '2022-03-28'),\n",
       " (2347116162, 1299, '2022-03-29'),\n",
       " (2347116162, 1299, '2022-03-30')]"
      ]
     },
     "execution_count": 96,
     "metadata": {},
     "output_type": "execute_result"
    }
   ],
   "source": [
    "# получение данных по объявлениям для корректировки стоимости\n",
    "cursor.execute(\"SELECT marker_id, price, date FROM as_history WHERE price = (select MIN(price) FROM as_history);\")\n",
    "query_data = cursor.fetchall()\n",
    "query_data"
   ]
  },
  {
   "cell_type": "code",
   "execution_count": 97,
   "id": "ea4ad58f",
   "metadata": {},
   "outputs": [],
   "source": [
    "# внесение изменений в базу данных\n",
    "#cursor.execute(\"UPDATE as_history SET price = ? WHERE marker_id = ? AND date = ?;\", (query_data[0][1] * 1000, query_data[0][0], query_data[0][2]))\n",
    "#connection.commit()"
   ]
  },
  {
   "cell_type": "code",
   "execution_count": 98,
   "id": "0e84dbe0",
   "metadata": {},
   "outputs": [],
   "source": [
    "# проверка внесения изменений\n",
    "#cursor.execute(\"SELECT marker_id, price, date FROM as_history WHERE marker_id = ?;\", (query_data[0][0],))\n",
    "#cursor.fetchall()"
   ]
  },
  {
   "cell_type": "code",
   "execution_count": 107,
   "id": "3305b110",
   "metadata": {},
   "outputs": [
    {
     "data": {
      "image/png": "[encoded data removed]",
      "text/plain": [
       "<Figure size 1440x432 with 1 Axes>"
      ]
     },
     "metadata": {
      "needs_background": "light"
     },
     "output_type": "display_data"
    }
   ],
   "source": [
    "# график динамики средней стоимости квартир\n",
    "fig, ax = plt.subplots(figsize=(20,6))\n",
    "\n",
    "ax = as_history_df.groupby('date')['price'].mean().plot(grid=True, label = 'средняя стоимость квартиры')\n",
    "\n",
    "ax.set_title('Динамика средней стоимости продажи квартиры в г. Зеленодольск')\n",
    "\n",
    "ax.hlines(as_history_df.groupby('date')['price'].mean().mean(), \\\n",
    "          start_date, last_date, color = 'r', linestyle = '--', label = 'тренд по стоимости')\n",
    "\n",
    "ax.legend(loc = 'lower right')\n",
    "\n",
    "plt.ylim(3200000,4200000)\n",
    "\n",
    "plt.show()"
   ]
  },
  {
   "cell_type": "markdown",
   "id": "816c6eea",
   "metadata": {},
   "source": [
    "Виден плавный рост средней стоимости продажи квартир. \\\n",
    "Также можно отметить резкое снижение средней стоимости 18 марта и 04 апреля 2022 г. \\\n",
    "и резкий рост средней стоимости 21 марта 2022 г."
   ]
  },
  {
   "cell_type": "markdown",
   "id": "e1bd76fd",
   "metadata": {},
   "source": [
    "* ## анализ количества объявлений"
   ]
  },
  {
   "cell_type": "code",
   "execution_count": 108,
   "id": "ae0b44f2",
   "metadata": {},
   "outputs": [
    {
     "data": {
      "image/png": "[encoded data removed]",
      "text/plain": [
       "<Figure size 1440x432 with 1 Axes>"
      ]
     },
     "metadata": {
      "needs_background": "light"
     },
     "output_type": "display_data"
    }
   ],
   "source": [
    "# график динамики количества объвлений \n",
    "fig, ax = plt.subplots(figsize=(20,6))\n",
    "\n",
    "ax = as_history_df['date'].value_counts().plot(grid=True, label = 'количесво объявлений')\n",
    "\n",
    "ax.set_title('Динамика количества объявлений продаж квартир в г. Зеленодольск')\n",
    "\n",
    "ax.hlines(as_history_df['date'].value_counts().mean(), \\\n",
    "          start_date, last_date, color = 'r', linestyle = '--', label = 'среднее количесво объявлений')\n",
    "\n",
    "ax.legend(loc = 'lower right')\n",
    "\n",
    "plt.ylim(100,650)\n",
    "\n",
    "plt.show()"
   ]
  },
  {
   "cell_type": "markdown",
   "id": "9c5a5d6c",
   "metadata": {},
   "source": [
    "С 16 марта по 05 апреля 2022 г. отмечаются резкие колебания по количеству объявлений, \\\n",
    "а с 05 апреля 2022 г. стабильный рост количества объявлений."
   ]
  },
  {
   "cell_type": "markdown",
   "id": "cc9ff426",
   "metadata": {},
   "source": [
    "* ## анализ количества просмотров"
   ]
  },
  {
   "cell_type": "code",
   "execution_count": 109,
   "id": "79c27b1a",
   "metadata": {},
   "outputs": [
    {
     "data": {
      "image/png": "[encoded data removed]",
      "text/plain": [
       "<Figure size 1440x432 with 1 Axes>"
      ]
     },
     "metadata": {
      "needs_background": "light"
     },
     "output_type": "display_data"
    }
   ],
   "source": [
    "# график распределения просмотров объявлений квартир в г. Зеленодольск\n",
    "fig, ax = plt.subplots(figsize=(20,6))\n",
    "sns.histplot(x=as_history_df['views'])\n",
    "ax.set_title('График распределения просмотров объявлений квартир в г. Зеленодольск')\n",
    "plt.show()"
   ]
  },
  {
   "cell_type": "markdown",
   "id": "4d25e20d",
   "metadata": {},
   "source": [
    "Есть небольшое количество квартир с количеством просмотров более чем 5 000 \\\n",
    "Можно предположить, что объявление является привлекательным или долго продаются"
   ]
  },
  {
   "cell_type": "code",
   "execution_count": 110,
   "id": "da729c81",
   "metadata": {},
   "outputs": [
    {
     "data": {
      "image/png": "[encoded data removed]",
      "text/plain": [
       "<Figure size 1440x432 with 1 Axes>"
      ]
     },
     "metadata": {
      "needs_background": "light"
     },
     "output_type": "display_data"
    }
   ],
   "source": [
    "# график динамики количества просмотров \n",
    "fig, ax = plt.subplots(figsize=(20,6))\n",
    "\n",
    "ax = as_history_df.groupby('date')['views'].mean().plot(grid=True, label = 'среднее количесво просмотров')\n",
    "\n",
    "ax.set_title('Динамика среднего количества просмотров продаж квартир в г. Зеленодольск')\n",
    "\n",
    "ax.hlines(as_history_df.groupby('date')['views'].mean().mean(), start_date, last_date, color = 'r', linestyle = '--', label = 'тренд по просмотрам')\n",
    "\n",
    "ax.legend(loc = 'lower right')\n",
    "\n",
    "plt.ylim(500,2500)\n",
    "\n",
    "plt.show()"
   ]
  },
  {
   "cell_type": "markdown",
   "id": "eebd461b",
   "metadata": {},
   "source": [
    "Можно сделать предположение - квартиры по объявлениям опубликованным ранее 01 апреля 2022 г. были проданы"
   ]
  },
  {
   "cell_type": "code",
   "execution_count": null,
   "id": "1814c626",
   "metadata": {},
   "outputs": [],
   "source": []
  }
 ],
 "metadata": {
  "kernelspec": {
   "display_name": "Python 3",
   "language": "python",
   "name": "python3"
  },
  "language_info": {
   "codemirror_mode": {
    "name": "ipython",
    "version": 3
   },
   "file_extension": ".py",
   "mimetype": "text/x-python",
   "name": "python",
   "nbconvert_exporter": "python",
   "pygments_lexer": "ipython3",
   "version": "3.8.8"
  }
 },
 "nbformat": 4,
 "nbformat_minor": 5
}
