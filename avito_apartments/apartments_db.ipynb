{
 "cells": [
  {
   "cell_type": "code",
   "execution_count": 1,
   "id": "statewide-cross",
   "metadata": {},
   "outputs": [],
   "source": [
    "# импорт библиотеки создания базы данных\n",
    "import sqlite3"
   ]
  },
  {
   "cell_type": "markdown",
   "id": "union-patent",
   "metadata": {},
   "source": [
    "## Создание базы данных объявлений о продаже недвижимости"
   ]
  },
  {
   "cell_type": "code",
   "execution_count": 3,
   "id": "european-calculation",
   "metadata": {},
   "outputs": [
    {
     "name": "stdout",
     "output_type": "stream",
     "text": [
      "База данных создана и успешно подключена к SQLite\n"
     ]
    }
   ],
   "source": [
    "# подключение к базе данных (в случае отсутствия база данных создается)\n",
    "connection = sqlite3.connect('apartments.db')\n",
    "# создание объекта подключения\n",
    "cursor = connection.cursor()\n",
    "print(\"База данных создана и успешно подключена к SQLite\")"
   ]
  },
  {
   "cell_type": "code",
   "execution_count": 4,
   "id": "serial-antenna",
   "metadata": {},
   "outputs": [
    {
     "name": "stdout",
     "output_type": "stream",
     "text": [
      "Версия базы данных SQLite:  [('3.33.0',)]\n"
     ]
    }
   ],
   "source": [
    "# вывод версии базы данных\n",
    "sqlite_select_query = \"select sqlite_version();\"\n",
    "cursor.execute(sqlite_select_query)\n",
    "record = cursor.fetchall()\n",
    "print(\"Версия базы данных SQLite: \", record)"
   ]
  },
  {
   "cell_type": "markdown",
   "id": "elegant-macintosh",
   "metadata": {},
   "source": [
    "## Создание таблицы \"Справочник квартир\""
   ]
  },
  {
   "cell_type": "code",
   "execution_count": 5,
   "id": "national-pitch",
   "metadata": {},
   "outputs": [],
   "source": [
    "# создание таблицы as_house_type\n",
    "cursor.execute(\"\"\"CREATE TABLE IF NOT EXISTS as_house_type(\n",
    "   house_id INTEGER PRIMARY KEY,\n",
    "   house_name TEXT UNIQUE)\"\"\")\n",
    "connection.commit()"
   ]
  },
  {
   "cell_type": "code",
   "execution_count": 6,
   "id": "saving-superior",
   "metadata": {},
   "outputs": [],
   "source": [
    "# тип дома\n",
    "house_names = [(1, 'Вторичка'), (2, 'Новостройки')]"
   ]
  },
  {
   "cell_type": "code",
   "execution_count": 7,
   "id": "piano-providence",
   "metadata": {},
   "outputs": [],
   "source": [
    "# запись типа дома в таблицу as_house_type\n",
    "cursor.executemany(\"INSERT INTO as_house_type VALUES(?, ?)\", house_names)\n",
    "connection.commit()"
   ]
  },
  {
   "cell_type": "code",
   "execution_count": 8,
   "id": "biblical-effectiveness",
   "metadata": {},
   "outputs": [
    {
     "name": "stdout",
     "output_type": "stream",
     "text": [
      "[(1, 'Вторичка'), (2, 'Новостройки')]\n"
     ]
    }
   ],
   "source": [
    "# проверка внесения записи\n",
    "cursor.execute(\"SELECT * FROM as_house_type;\")\n",
    "three_results = cursor.fetchmany(2)\n",
    "print(three_results)"
   ]
  },
  {
   "cell_type": "code",
   "execution_count": 9,
   "id": "limiting-newsletter",
   "metadata": {},
   "outputs": [],
   "source": [
    "# удаление таблицы\n",
    "#cursor.execute(\"DROP TABLE as_house_type\")\n",
    "#connection.commit()"
   ]
  },
  {
   "cell_type": "code",
   "execution_count": 10,
   "id": "inclusive-preparation",
   "metadata": {},
   "outputs": [],
   "source": [
    "# создание таблицы as_info\n",
    "cursor.execute(\"\"\"CREATE TABLE IF NOT EXISTS as_info(\n",
    "   marker_id INTEGER PRIMARY KEY,\n",
    "   href TEXT,\n",
    "   title TEXT,\n",
    "   house_id INTEGER,\n",
    "   address TEXT,\n",
    "   seller_id INTEGER,\n",
    "   description TEXT NOT NULL,\n",
    "   priority TEXT,\n",
    "   params TEXT,\n",
    "   map_lat TEXT,\n",
    "   map_lon TEXT)\"\"\")\n",
    "connection.commit()"
   ]
  },
  {
   "cell_type": "code",
   "execution_count": 11,
   "id": "boxed-census",
   "metadata": {},
   "outputs": [],
   "source": [
    "# удаление таблицы\n",
    "#cursor.execute(\"DROP TABLE as_info\")\n",
    "#connection.commit()"
   ]
  },
  {
   "cell_type": "markdown",
   "id": "outside-hazard",
   "metadata": {},
   "source": [
    "## Создание таблицы \"Динамика стоимости и просмотров\" "
   ]
  },
  {
   "cell_type": "code",
   "execution_count": 12,
   "id": "hairy-coast",
   "metadata": {},
   "outputs": [],
   "source": [
    "# создание таблицы as_history\n",
    "cursor.execute(\"\"\"CREATE TABLE IF NOT EXISTS as_history(\n",
    "   marker_id INTEGER,\n",
    "   price INT,\n",
    "   val_id INT,\n",
    "   views INT,\n",
    "   date TEXT)\"\"\")\n",
    "connection.commit()"
   ]
  },
  {
   "cell_type": "code",
   "execution_count": 13,
   "id": "understanding-tolerance",
   "metadata": {},
   "outputs": [],
   "source": [
    "# удаление таблицы\n",
    "#cursor.execute(\"DROP TABLE as_history\")\n",
    "#connection.commit()"
   ]
  },
  {
   "cell_type": "markdown",
   "id": "acoustic-horizontal",
   "metadata": {},
   "source": [
    "## Создание таблицы \"Справочник единиц валюты\" "
   ]
  },
  {
   "cell_type": "code",
   "execution_count": 14,
   "id": "narrow-winning",
   "metadata": {},
   "outputs": [],
   "source": [
    "# создание таблицы as_price_val\n",
    "cursor.execute(\"\"\"CREATE TABLE IF NOT EXISTS as_price_val(\n",
    "   val_id INTEGER PRIMARY KEY,\n",
    "   val_name TEXT UNIQUE)\"\"\")\n",
    "connection.commit()"
   ]
  },
  {
   "cell_type": "code",
   "execution_count": 15,
   "id": "driving-czech",
   "metadata": {},
   "outputs": [],
   "source": [
    "# удаление таблицы\n",
    "#cursor.execute(\"DROP TABLE as_price_val\")\n",
    "#connection.commit()"
   ]
  },
  {
   "cell_type": "code",
   "execution_count": 16,
   "id": "southern-manor",
   "metadata": {},
   "outputs": [],
   "source": [
    "# внесение записи в Справочник единиц валюты\n",
    "cursor.execute(\"INSERT INTO as_price_val (val_name) VALUES('руб.');\")\n",
    "connection.commit()"
   ]
  },
  {
   "cell_type": "code",
   "execution_count": 17,
   "id": "productive-verse",
   "metadata": {},
   "outputs": [
    {
     "name": "stdout",
     "output_type": "stream",
     "text": [
      "[(1, 'руб.')]\n"
     ]
    }
   ],
   "source": [
    "# проверка внесения записи\n",
    "cursor.execute(\"SELECT * FROM as_price_val;\")\n",
    "three_results = cursor.fetchmany(2)\n",
    "print(three_results)"
   ]
  },
  {
   "cell_type": "code",
   "execution_count": 18,
   "id": "amino-differential",
   "metadata": {},
   "outputs": [
    {
     "name": "stdout",
     "output_type": "stream",
     "text": [
      "[(1, 'руб.')]\n"
     ]
    }
   ],
   "source": [
    "# вывод всех записей в таблице\n",
    "cursor.execute(\"SELECT * FROM as_price_val;\")\n",
    "all_results = cursor.fetchall()\n",
    "print(all_results)"
   ]
  },
  {
   "cell_type": "markdown",
   "id": "considered-oxford",
   "metadata": {},
   "source": [
    "## Создание таблицы \"Справочник продавцов\" "
   ]
  },
  {
   "cell_type": "code",
   "execution_count": 19,
   "id": "developmental-setup",
   "metadata": {},
   "outputs": [],
   "source": [
    "# создание таблицы as_seller_type\n",
    "cursor.execute(\"\"\"CREATE TABLE IF NOT EXISTS as_seller_type(\n",
    "   type_id INTEGER PRIMARY KEY,\n",
    "   type_name TEXT UNIQUE)\"\"\")\n",
    "connection.commit()"
   ]
  },
  {
   "cell_type": "code",
   "execution_count": 20,
   "id": "fallen-shoulder",
   "metadata": {},
   "outputs": [],
   "source": [
    "# удаление таблицы\n",
    "#cursor.execute(\"DROP TABLE as_seller_type\")\n",
    "#connection.commit()"
   ]
  },
  {
   "cell_type": "code",
   "execution_count": 21,
   "id": "affecting-particle",
   "metadata": {},
   "outputs": [],
   "source": [
    "# тип продавца\n",
    "type_names = [(1, 'Агентство'), (2, 'Собственник'), (3, 'Застройщик')]"
   ]
  },
  {
   "cell_type": "code",
   "execution_count": 22,
   "id": "herbal-picture",
   "metadata": {},
   "outputs": [],
   "source": [
    "# запись наименований продавцов в таблицу as_seller_type\n",
    "cursor.executemany(\"INSERT INTO as_seller_type VALUES(?, ?)\", type_names)\n",
    "connection.commit()"
   ]
  },
  {
   "cell_type": "code",
   "execution_count": 23,
   "id": "featured-oriental",
   "metadata": {},
   "outputs": [
    {
     "name": "stdout",
     "output_type": "stream",
     "text": [
      "[(1, 'Агентство'), (2, 'Собственник'), (3, 'Застройщик')]\n"
     ]
    }
   ],
   "source": [
    "# вывод всех записей в таблице as_seller_type\n",
    "cursor.execute(\"SELECT * FROM as_seller_type;\")\n",
    "all_results = cursor.fetchall()\n",
    "print(all_results)"
   ]
  },
  {
   "cell_type": "code",
   "execution_count": 24,
   "id": "dirty-balloon",
   "metadata": {},
   "outputs": [],
   "source": [
    "# создание таблицы as_seller_info\n",
    "cursor.execute(\"\"\"CREATE TABLE IF NOT EXISTS as_seller_info(\n",
    "   seller_id INTEGER PRIMARY KEY,\n",
    "   type_id INT,\n",
    "   seller_name TEXT NOT NULL UNIQUE)\"\"\")\n",
    "connection.commit()"
   ]
  },
  {
   "cell_type": "code",
   "execution_count": 25,
   "id": "coated-article",
   "metadata": {},
   "outputs": [],
   "source": [
    "# удаление таблицы\n",
    "#cursor.execute(\"DROP TABLE as_seller_info\")\n",
    "#connection.commit()"
   ]
  },
  {
   "cell_type": "markdown",
   "id": "placed-error",
   "metadata": {},
   "source": [
    "## Вывод названий таблиц в базе данных apartments.db"
   ]
  },
  {
   "cell_type": "code",
   "execution_count": 26,
   "id": "enclosed-legend",
   "metadata": {},
   "outputs": [
    {
     "name": "stdout",
     "output_type": "stream",
     "text": [
      "[('as_house_type',), ('as_info',), ('as_history',), ('as_price_val',), ('as_seller_type',), ('as_seller_info',)]\n"
     ]
    }
   ],
   "source": [
    "# вывод наименований созданных таблиц\n",
    "cursor.execute('SELECT name from sqlite_master where type= \"table\"')\n",
    "print(cursor.fetchall())"
   ]
  },
  {
   "cell_type": "code",
   "execution_count": 27,
   "id": "arbitrary-privilege",
   "metadata": {},
   "outputs": [],
   "source": [
    "# закрытие соединения с базой данных\n",
    "connection.close()"
   ]
  },
  {
   "cell_type": "code",
   "execution_count": null,
   "id": "emotional-telling",
   "metadata": {},
   "outputs": [],
   "source": []
  }
 ],
 "metadata": {
  "kernelspec": {
   "display_name": "Python 3",
   "language": "python",
   "name": "python3"
  },
  "language_info": {
   "codemirror_mode": {
    "name": "ipython",
    "version": 3
   },
   "file_extension": ".py",
   "mimetype": "text/x-python",
   "name": "python",
   "nbconvert_exporter": "python",
   "pygments_lexer": "ipython3",
   "version": "3.8.8"
  }
 },
 "nbformat": 4,
 "nbformat_minor": 5
}
