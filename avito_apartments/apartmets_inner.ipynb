{
 "cells": [
  {
   "cell_type": "code",
   "execution_count": 1,
   "id": "special-aside",
   "metadata": {},
   "outputs": [],
   "source": [
    "#импорт необходимых библиотек\n",
    "import pandas as pd\n",
    "import requests\n",
    "import csv"
   ]
  },
  {
   "cell_type": "code",
   "execution_count": 2,
   "id": "thick-outside",
   "metadata": {},
   "outputs": [],
   "source": [
    "from bs4 import BeautifulSoup"
   ]
  },
  {
   "cell_type": "code",
   "execution_count": 3,
   "id": "agricultural-divorce",
   "metadata": {},
   "outputs": [],
   "source": [
    "import random"
   ]
  },
  {
   "cell_type": "code",
   "execution_count": 4,
   "id": "korean-standing",
   "metadata": {},
   "outputs": [],
   "source": [
    "import time"
   ]
  },
  {
   "cell_type": "code",
   "execution_count": 5,
   "id": "earned-undergraduate",
   "metadata": {},
   "outputs": [],
   "source": [
    "#pip install selenium"
   ]
  },
  {
   "cell_type": "code",
   "execution_count": 6,
   "id": "exotic-strip",
   "metadata": {},
   "outputs": [],
   "source": [
    "#pip install webdriver-manager"
   ]
  },
  {
   "cell_type": "code",
   "execution_count": 7,
   "id": "expensive-survivor",
   "metadata": {},
   "outputs": [],
   "source": [
    "from selenium import webdriver\n",
    "from webdriver_manager.chrome import ChromeDriverManager"
   ]
  },
  {
   "cell_type": "code",
   "execution_count": 8,
   "id": "developing-attention",
   "metadata": {},
   "outputs": [
    {
     "name": "stderr",
     "output_type": "stream",
     "text": [
      "\n",
      "\n",
      "====== WebDriver manager ======\n",
      "Current google-chrome version is 99.0.4844\n",
      "Get LATEST chromedriver version for 99.0.4844 google-chrome\n",
      "Driver [C:\\Users\\rus_k\\.wdm\\drivers\\chromedriver\\win32\\99.0.4844.51\\chromedriver.exe] found in cache\n",
      "<ipython-input-8-c026f0c15647>:1: DeprecationWarning: executable_path has been deprecated, please pass in a Service object\n",
      "  driver = webdriver.Chrome(ChromeDriverManager().install())\n"
     ]
    }
   ],
   "source": [
    "driver = webdriver.Chrome(ChromeDriverManager().install())"
   ]
  },
  {
   "cell_type": "code",
   "execution_count": 9,
   "id": "cognitive-japanese",
   "metadata": {},
   "outputs": [],
   "source": [
    "# импорт библиотеки работы с базой данных\n",
    "import sqlite3"
   ]
  },
  {
   "cell_type": "code",
   "execution_count": 10,
   "id": "unlimited-large",
   "metadata": {},
   "outputs": [
    {
     "name": "stdout",
     "output_type": "stream",
     "text": [
      "База данных успешно подключена к SQLite\n"
     ]
    }
   ],
   "source": [
    "# подключение к базе данных\n",
    "connection = sqlite3.connect('apartments.db')\n",
    "# создание объекта подключения\n",
    "cursor = connection.cursor()\n",
    "print(\"База данных успешно подключена к SQLite\")"
   ]
  },
  {
   "cell_type": "code",
   "execution_count": 11,
   "id": "portable-guess",
   "metadata": {},
   "outputs": [
    {
     "name": "stdout",
     "output_type": "stream",
     "text": [
      "[('as_house_type',), ('as_info',), ('as_history',), ('as_price_val',), ('as_seller_type',), ('as_seller_info',)]\n"
     ]
    }
   ],
   "source": [
    "# вывод наименований созданных таблиц\n",
    "cursor.execute('SELECT name from sqlite_master where type= \"table\"')\n",
    "print(cursor.fetchall())"
   ]
  },
  {
   "cell_type": "code",
   "execution_count": 12,
   "id": "developed-growing",
   "metadata": {},
   "outputs": [
    {
     "name": "stdout",
     "output_type": "stream",
     "text": [
      "['marker_id', 'price', 'val_id', 'views', 'date']\n"
     ]
    }
   ],
   "source": [
    "cursor.execute(\"PRAGMA table_info('as_history')\")\n",
    "as_info = [name[1] for name in cursor.fetchall()]\n",
    "print(as_info)"
   ]
  },
  {
   "cell_type": "code",
   "execution_count": 13,
   "id": "negative-ghost",
   "metadata": {},
   "outputs": [
    {
     "name": "stdout",
     "output_type": "stream",
     "text": [
      "['marker_id', 'href', 'title', 'house_id', 'address', 'seller_id', 'description', 'priority', 'params', 'map_lat', 'map_lon']\n"
     ]
    }
   ],
   "source": [
    "cursor.execute(\"PRAGMA table_info('as_info')\")\n",
    "as_info = [name[1] for name in cursor.fetchall()]\n",
    "print(as_info)"
   ]
  },
  {
   "cell_type": "code",
   "execution_count": 14,
   "id": "western-horse",
   "metadata": {},
   "outputs": [
    {
     "name": "stdout",
     "output_type": "stream",
     "text": [
      "2022-03-18\n"
     ]
    }
   ],
   "source": [
    "from datetime import date\n",
    "current_date = date.today()\n",
    "print(current_date)"
   ]
  },
  {
   "cell_type": "code",
   "execution_count": 18,
   "id": "silent-level",
   "metadata": {},
   "outputs": [],
   "source": [
    "current_date = '2022-03-17'"
   ]
  },
  {
   "cell_type": "code",
   "execution_count": 19,
   "id": "outstanding-heaven",
   "metadata": {},
   "outputs": [],
   "source": [
    "cursor.execute(\"SELECT href FROM as_info WHERE marker_id IN (SELECT marker_id FROM as_history WHERE date = ?);\", (current_date,))\n",
    "href_list = cursor.fetchall()"
   ]
  },
  {
   "cell_type": "code",
   "execution_count": 20,
   "id": "forty-origin",
   "metadata": {},
   "outputs": [],
   "source": [
    "href_list = [href[0] for href in href_list]"
   ]
  },
  {
   "cell_type": "code",
   "execution_count": 21,
   "id": "structured-correction",
   "metadata": {},
   "outputs": [
    {
     "data": {
      "text/plain": [
       "325"
      ]
     },
     "execution_count": 21,
     "metadata": {},
     "output_type": "execute_result"
    }
   ],
   "source": [
    "len(href_list)"
   ]
  },
  {
   "cell_type": "code",
   "execution_count": null,
   "id": "circular-lobby",
   "metadata": {},
   "outputs": [],
   "source": [
    "#connection.close()"
   ]
  },
  {
   "cell_type": "code",
   "execution_count": 22,
   "id": "sacred-upgrade",
   "metadata": {},
   "outputs": [],
   "source": [
    "def write_db(data):\n",
    "    \n",
    "    house_name = data['kind']\n",
    "    cursor.execute(\"SELECT house_id FROM as_house_type WHERE house_name = ?;\", (house_name,))\n",
    "    \n",
    "    try:\n",
    "        house_id = cursor.fetchall()[0][0]\n",
    "    except:\n",
    "        pass\n",
    "    \n",
    "    try:\n",
    "        cursor.execute(\"SELECT params, map_lat, map_lon FROM as_info WHERE marker_id = ?;\", (href.split('_')[-1],))\n",
    "        as_info = cursor.fetchall()\n",
    "        len(as_info[0][0])\n",
    "    except:\n",
    "        cursor.execute(\"UPDATE as_info SET house_id = ?, params = ?, map_lat = ?, map_lon = ? WHERE marker_id = ?;\", \\\n",
    "                       (house_id, data['params'], data['map_lat'], data['map_lon'], href.split('_')[-1]))\n",
    "        connection.commit()\n",
    "        \n",
    "    try:\n",
    "        cursor.execute(\"UPDATE as_history SET views = ? WHERE marker_id = ? AND date = ?;\", (data['views'], href.split('_')[-1], current_date))\n",
    "        connection.commit()\n",
    "    except:\n",
    "        pass"
   ]
  },
  {
   "cell_type": "code",
   "execution_count": 23,
   "id": "crucial-benefit",
   "metadata": {},
   "outputs": [],
   "source": [
    "def view_sum(view):\n",
    "    view = view.lstrip().split()\n",
    "    if len(view) == 2:\n",
    "        return int(view[0]) + int(view[1][2:-1])\n",
    "    else:\n",
    "        return int(view[0]) "
   ]
  },
  {
   "cell_type": "code",
   "execution_count": 24,
   "id": "individual-notion",
   "metadata": {},
   "outputs": [],
   "source": [
    "def get_kvartira_data(main_page):\n",
    "    kvartira = BeautifulSoup(main_page, 'html.parser')\n",
    "    try:\n",
    "        kind = kvartira.find_all('a', {'class':'js-breadcrumbs-link js-breadcrumbs-link-interaction'})[-2].text.replace('\\n', '')\n",
    "    except:\n",
    "        kind = None\n",
    "    try:\n",
    "        if len(kvartira.find_all('div', {'class':'item-view-block'})) == 4:\n",
    "            params = kvartira.find_all('div', {'class':'item-view-block'})[0].find_all('li', {'class':'item-params-list-item'})\n",
    "            params = [param.text.strip().replace(\"\\n                    \",'').replace(\"\\xa0\",' ') for param in params]\n",
    "            params_room = ', '.join(params)\n",
    "        else:\n",
    "            params_room = kvartira.find_all('div', {'class':'item-view-block'})[1].find_all('li', {'class':'item-params-list-item'})\n",
    "            params_room = [param.text.strip().replace(\"\\n                    \",'').replace(\"\\xa0\",' ') for param in params_room]\n",
    "            params_room = ', '.join(params_room)\n",
    "    except:\n",
    "        params_room = None\n",
    "    try:\n",
    "        map_lat = kvartira.find('div', {'class':'b-search-map expanded item-map-wrapper js-item-map-wrapper'})['data-map-lat']\n",
    "    except:\n",
    "        map_lat = None\n",
    "    try:\n",
    "        map_lon = kvartira.find('div', {'class':'b-search-map expanded item-map-wrapper js-item-map-wrapper'})['data-map-lon'] \n",
    "    except:\n",
    "        map_lon = None\n",
    "    try:    \n",
    "        params_house = kvartira.find_all('div', {'class':'item-view-block'})[-1].find_all('li', {'class':'item-params-list-item'})\n",
    "        params_house = [param.text.strip().replace(\"\\n                    \",'').replace(\"\\xa0\",' ') for param in params_house]\n",
    "        params_house = ', '.join(params_house)\n",
    "    except:             \n",
    "        params_house = None\n",
    "    try:     \n",
    "        views = kvartira.find('div', {'class':'title-info-metadata-item title-info-metadata-views'}).text\n",
    "        views = view_sum(views)\n",
    "    except:    \n",
    "        views = None \n",
    "\n",
    "    params =  params_room + ', ' + params_house\n",
    "    \n",
    "    data = {'kind': kind,\n",
    "            'params' : params,\n",
    "            'map_lat' : map_lat,\n",
    "            'map_lon' : map_lon,\n",
    "            'views' : views}\n",
    "       \n",
    "    write_db(data)\n",
    "    \n",
    "    return data"
   ]
  },
  {
   "cell_type": "code",
   "execution_count": 26,
   "id": "focal-motor",
   "metadata": {},
   "outputs": [],
   "source": [
    "for href in href_list: \n",
    "    driver.get(href)\n",
    "    time.sleep(6)\n",
    "    main_page = driver.page_source\n",
    "    get_kvartira_data(main_page)"
   ]
  },
  {
   "cell_type": "code",
   "execution_count": 27,
   "id": "expressed-slovenia",
   "metadata": {},
   "outputs": [],
   "source": [
    "connection.close()"
   ]
  },
  {
   "cell_type": "code",
   "execution_count": null,
   "id": "proved-analysis",
   "metadata": {},
   "outputs": [],
   "source": []
  }
 ],
 "metadata": {
  "kernelspec": {
   "display_name": "Python 3",
   "language": "python",
   "name": "python3"
  },
  "language_info": {
   "codemirror_mode": {
    "name": "ipython",
    "version": 3
   },
   "file_extension": ".py",
   "mimetype": "text/x-python",
   "name": "python",
   "nbconvert_exporter": "python",
   "pygments_lexer": "ipython3",
   "version": "3.8.8"
  }
 },
 "nbformat": 4,
 "nbformat_minor": 5
}
