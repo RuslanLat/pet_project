{
 "cells": [
  {
   "cell_type": "code",
   "execution_count": 1,
   "id": "brilliant-jackson",
   "metadata": {},
   "outputs": [],
   "source": [
    "#импорт необходимых библиотек\n",
    "import pandas as pd\n",
    "import requests\n",
    "import csv"
   ]
  },
  {
   "cell_type": "code",
   "execution_count": 2,
   "id": "static-breach",
   "metadata": {},
   "outputs": [],
   "source": [
    "from bs4 import BeautifulSoup"
   ]
  },
  {
   "cell_type": "code",
   "execution_count": 3,
   "id": "completed-batman",
   "metadata": {},
   "outputs": [],
   "source": [
    "import random\n",
    "import time"
   ]
  },
  {
   "cell_type": "code",
   "execution_count": 4,
   "id": "after-chess",
   "metadata": {},
   "outputs": [],
   "source": [
    "# импорт библиотеки создания базы данных\n",
    "import sqlite3"
   ]
  },
  {
   "cell_type": "code",
   "execution_count": 5,
   "id": "significant-college",
   "metadata": {},
   "outputs": [
    {
     "name": "stdout",
     "output_type": "stream",
     "text": [
      "База данных успешно подключена к SQLite\n"
     ]
    }
   ],
   "source": [
    "# подключение к базе данных\n",
    "connection = sqlite3.connect('apartments.db')\n",
    "# создание объекта подключения\n",
    "cursor = connection.cursor()\n",
    "print(\"База данных успешно подключена к SQLite\")"
   ]
  },
  {
   "cell_type": "code",
   "execution_count": 6,
   "id": "innovative-contrast",
   "metadata": {},
   "outputs": [
    {
     "name": "stdout",
     "output_type": "stream",
     "text": [
      "[('as_house_type',), ('as_info',), ('as_history',), ('as_price_val',), ('as_seller_type',), ('as_seller_info',)]\n"
     ]
    }
   ],
   "source": [
    "# вывод наименований созданных таблиц\n",
    "cursor.execute('SELECT name from sqlite_master where type= \"table\"')\n",
    "print(cursor.fetchall())"
   ]
  },
  {
   "cell_type": "code",
   "execution_count": 7,
   "id": "announced-retention",
   "metadata": {},
   "outputs": [
    {
     "name": "stdout",
     "output_type": "stream",
     "text": [
      "['marker_id', 'href', 'title', 'house_id', 'address', 'seller_id', 'description', 'priority', 'params', 'map_lat', 'map_lon']\n"
     ]
    }
   ],
   "source": [
    "cursor.execute(\"PRAGMA table_info('as_info')\")\n",
    "as_info = [name[1] for name in cursor.fetchall()]\n",
    "print(as_info)"
   ]
  },
  {
   "cell_type": "code",
   "execution_count": 8,
   "id": "animated-brazilian",
   "metadata": {},
   "outputs": [],
   "source": [
    "#connection.close()"
   ]
  },
  {
   "cell_type": "code",
   "execution_count": 9,
   "id": "apart-document",
   "metadata": {},
   "outputs": [
    {
     "name": "stdout",
     "output_type": "stream",
     "text": [
      "2022-03-17\n"
     ]
    }
   ],
   "source": [
    "from datetime import date\n",
    "current_date = date.today()\n",
    "print(current_date)"
   ]
  },
  {
   "cell_type": "code",
   "execution_count": 10,
   "id": "helpful-camcorder",
   "metadata": {},
   "outputs": [],
   "source": [
    "def get_html(url):\n",
    "    r = requests.get(url)\n",
    "    \n",
    "    return r.text"
   ]
  },
  {
   "cell_type": "code",
   "execution_count": 11,
   "id": "funky-individual",
   "metadata": {},
   "outputs": [],
   "source": [
    "def get_total_pages(html):\n",
    "    soup = BeautifulSoup(html, 'html.parser')\n",
    "    pages = soup.find('div', {'class':'pagination-root-Ntd_O'}).find_all('span', {'class':'pagination-item-JJq_j'})\n",
    "    total_pages = pages[-2].text\n",
    "    \n",
    "    return int(total_pages)"
   ]
  },
  {
   "cell_type": "code",
   "execution_count": 12,
   "id": "greenhouse-duration",
   "metadata": {},
   "outputs": [],
   "source": [
    "def write_db(data):\n",
    "    \n",
    "    val_name = data['price_val']\n",
    "    cursor.execute(\"SELECT val_id FROM as_price_val WHERE val_name = ?;\", (val_name,))\n",
    "    val_id = cursor.fetchall()[0][0]\n",
    "    \n",
    "    cursor.execute(\"SELECT * FROM as_history WHERE marker_id = ? AND date = ?;\", (data['marker_id'], current_date))\n",
    "    marker_id_date = cursor.fetchall()\n",
    "     \n",
    "    try:\n",
    "        marker_id_date[0]\n",
    "    except:\n",
    "        cursor.execute(\"INSERT INTO as_history (marker_id, price, val_id, date) VALUES(?, ?, ?, ?);\", \\\n",
    "                   (data['marker_id'], data['price'], val_id, current_date))\n",
    "        connection.commit()\n",
    "    \n",
    "    type_name = data['seller']\n",
    "    seller_name = data['seller_name']  \n",
    "    \n",
    "    cursor.execute(\"SELECT type_id FROM as_seller_type WHERE type_name = ?;\", (type_name,))\n",
    "    type_id = cursor.fetchall()[0][0]\n",
    "    \n",
    "    if type_id == 2:\n",
    "        seller_name = 'Собственник'\n",
    "    \n",
    "    try:\n",
    "        cursor.execute(\"INSERT INTO as_seller_info (type_id, seller_name) VALUES(?, ?);\", \\\n",
    "                       (type_id, seller_name))\n",
    "        connection.commit()\n",
    "    except:\n",
    "        pass\n",
    "    \n",
    "    try:\n",
    "        cursor.execute(\"SELECT seller_id FROM as_seller_info WHERE seller_name = ?;\", (seller_name,))\n",
    "        seller_id = cursor.fetchall()[0][0]\n",
    "    except:\n",
    "        pass    \n",
    "    \n",
    "    try:\n",
    "        cursor.execute(\"INSERT INTO as_info (marker_id, href, title, address, seller_id, description, priority) \\\n",
    "                   VALUES (?, ?, ?, ?, ?, ?, ?);\", (data['marker_id'], data['href'], data['title'], \\\n",
    "                                              data['address'], seller_id, data['description'], data['priority']))\n",
    "        connection.commit()\n",
    "    except:\n",
    "        pass"
   ]
  },
  {
   "cell_type": "code",
   "execution_count": 13,
   "id": "meaningful-stopping",
   "metadata": {},
   "outputs": [],
   "source": [
    "def get_pages_data(html):\n",
    "    soup = BeautifulSoup(html, 'html.parser')\n",
    "    ads = soup.find_all('div', {'data-marker': 'item'})\n",
    "    for ad in ads:\n",
    "        try:\n",
    "            marker_id = ad['id'][1:]\n",
    "        except:\n",
    "            marker_id = None    \n",
    "        try:\n",
    "            href = 'https://www.avito.ru' + ad.find('a')['href']\n",
    "        except:\n",
    "            href = None\n",
    "        try:\n",
    "            title = ad.find('div', {'class' : 'iva-item-titleStep-pdebR'}).text    \n",
    "        except:\n",
    "            title = None\n",
    "        try:\n",
    "            price = ''.join(ad.find('span', {'class' : 'price-price-JP7qe'}).text.split()[:-1])\n",
    "        except:    \n",
    "            price = None\n",
    "        try:\n",
    "            price_val = ad.find('span', {'class' : 'price-price-JP7qe'}).text.replace(r'₽','руб.').split()[-1]   \n",
    "        except:    \n",
    "            price_val = None\n",
    "        try:\n",
    "            address = ad.find('div', {'class' : 'geo-root-zPwRk iva-item-geo-_Owyg'}).text\n",
    "        except:\n",
    "            address = None\n",
    "        try:\n",
    "            seller_name =  ad.find('div', {'class' : 'style-root-uufhX'}).text\n",
    "        except:\n",
    "            seller_name = None\n",
    "        try:\n",
    "            ad.find('div', {'data-marker' : 'item-line'}).text\n",
    "            seller = 'Агентство'\n",
    "        except:\n",
    "            seller = 'Собственник'       \n",
    "        try:    \n",
    "            description = ad.find('div', {'class' : 'iva-item-descriptionStep-C0ty1'}).text\n",
    "        except:    \n",
    "            description = None\n",
    "        try:\n",
    "            prioritys = ad.find_all('div', {'class' : 'SnippetBadge-root-ZnUY6'})\n",
    "            priority = [priority.text for priority in prioritys]\n",
    "            if len(priority) == 1:\n",
    "                priority = priority[0]\n",
    "            else:\n",
    "                priority = ', '.join(priority)\n",
    "        except:    \n",
    "            priority = None    \n",
    "        \n",
    "        \n",
    "        data = {'marker_id':marker_id,\n",
    "                'href' : href,\n",
    "                'title' : title,\n",
    "                'price' : price,\n",
    "                'price_val' : price_val,\n",
    "                'address' : address, \n",
    "                'seller_name' : seller_name, \n",
    "                'seller' : seller,\n",
    "                'description' : description,\n",
    "                'current_date' : current_date,\n",
    "                'priority' : priority}\n",
    "        \n",
    "        write_db(data)"
   ]
  },
  {
   "cell_type": "code",
   "execution_count": 14,
   "id": "interesting-example",
   "metadata": {},
   "outputs": [],
   "source": [
    "def main():\n",
    "    url = 'https://www.avito.ru/zelenodolsk/kvartiry/prodam-ASgBAgICAUSSA8YQ?cd=1'\n",
    "    base_url = 'https://www.avito.ru/zelenodolsk/kvartiry/prodam-ASgBAgICAUSSA8YQ?cd=1&p={}'\n",
    "    for p in range(1, get_total_pages(get_html(url)) + 1): #get_total_pages(get_html(url)) + 1\n",
    "        url_gen = base_url.format(p)\n",
    "        html = get_html(url_gen)\n",
    "        get_pages_data(html)\n",
    "        pause = round(random.uniform(10, 30))\n",
    "        time.sleep(pause)"
   ]
  },
  {
   "cell_type": "code",
   "execution_count": 15,
   "id": "healthy-quest",
   "metadata": {},
   "outputs": [],
   "source": [
    "if __name__ == '__main__':\n",
    "    main()"
   ]
  },
  {
   "cell_type": "code",
   "execution_count": 16,
   "id": "modified-collapse",
   "metadata": {},
   "outputs": [],
   "source": [
    "connection.close()"
   ]
  },
  {
   "cell_type": "code",
   "execution_count": null,
   "id": "corresponding-cabin",
   "metadata": {},
   "outputs": [],
   "source": []
  }
 ],
 "metadata": {
  "kernelspec": {
   "display_name": "Python 3",
   "language": "python",
   "name": "python3"
  },
  "language_info": {
   "codemirror_mode": {
    "name": "ipython",
    "version": 3
   },
   "file_extension": ".py",
   "mimetype": "text/x-python",
   "name": "python",
   "nbconvert_exporter": "python",
   "pygments_lexer": "ipython3",
   "version": "3.8.8"
  }
 },
 "nbformat": 4,
 "nbformat_minor": 5
}
